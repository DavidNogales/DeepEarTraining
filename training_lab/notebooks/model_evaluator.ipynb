{
 "cells": [
  {
   "cell_type": "code",
   "execution_count": 1,
   "metadata": {},
   "outputs": [
    {
     "name": "stdout",
     "output_type": "stream",
     "text": [
      "Dockerfile  docker-compose.yaml  overrides.json\n",
      "README.md   notebooks\t\t requirements.txt\n"
     ]
    }
   ],
   "source": [
    "!ls"
   ]
  },
  {
   "cell_type": "code",
   "execution_count": 10,
   "metadata": {},
   "outputs": [
    {
     "data": {
      "text/plain": [
       "{'major': 0, 'dorian': 0, 'mixolidian': 0}"
      ]
     },
     "execution_count": 10,
     "metadata": {},
     "output_type": "execute_result"
    }
   ],
   "source": [
    "def get_song_notes(song):\n",
    "    notes =[]\n",
    "    return notes\n",
    "def get_key_notes(key):\n",
    "    notes = {}\n",
    "    return notes\n",
    "\n",
    "def get_song_key(song):\n",
    "    return ''\n",
    "\n",
    "def metric_notes_in_key_rate(song,key):\n",
    "    notes = get_song_notes(song)\n",
    "    key_notes = get_key_notes(key)\n",
    "    \n",
    "    total_notes = len(notes)\n",
    "\n",
    "    notes_in_key = 0\n",
    "\n",
    "    for current_note in notes:\n",
    "        if current_note in key_notes:\n",
    "            notes_in_key += 1\n",
    "    if notes_in_key !=0:    \n",
    "        rate = notes_in_key/total_notes\n",
    "    else:\n",
    "        rate = 0    \n",
    "    return 0\n",
    "\n",
    "def major_key(current_key):\n",
    "    return True\n",
    "\n",
    "def get_metrics(song):\n",
    "    current_key = get_song_key(song)\n",
    "    '''\n",
    "    @article{Sturm2016c,\n",
    "    author = {B. L. Sturm and O. Ben-Tal},\n",
    "    journal = {J. Creative Music Systems},\n",
    "    month = {Sep.},\n",
    "    number = {1},\n",
    "    title = {Taking the Models back to Music Practice: Evaluating Generative Transcription Models built using Deep Learning},\n",
    "    volume = {2},\n",
    "    year = {2017}}\n",
    "    '''    \n",
    "    keys_to_test = {\n",
    "        'minor':['natural','harmonic','melodic'],\n",
    "        'major':['major','dorian','mixolidian']\n",
    "        }\n",
    "    test_keys = keys_to_test['major'] if major_key(current_key) else keys_to_test['minor']\n",
    "    metrics = {}\n",
    "    for test_key in test_keys:\n",
    "        metrics[test_key] = metric_notes_in_key_rate(song,test_key)\n",
    "    return metrics\n",
    "\n",
    "\n",
    "current_song = '''\n",
    "M:4/4L:1/4K:G|\"I\"|\"IV\"|\"V\"|\"V\"|\"I\"|\"IV\"|\"V\"|\"I\"|]\n",
    "\"I\"G/2A/2B/2A/2G/2F/2|G/2A/2B/2A/2G/2F/2|\"IV\"E3/4F/4G/2E/2|C/2C/2C/2|\"V\"B,2|\"I\"G/2A/4G/2F/2E/2|\"IV\"C/2C/2C/2D/2E/2|\"V\"F/2B,/2D/2C/2B,/2|\"I\"G/2G/2G/2A/2|\"IV\"G/2A/4G/4F/4G/2|\"V\"F/2G/2F/2D/2|\"I\"E2|]\n",
    "'''\n",
    "get_metrics(current_song)"
   ]
  }
 ],
 "metadata": {
  "kernelspec": {
   "display_name": "Python 3 (ipykernel)",
   "language": "python",
   "name": "python3"
  },
  "language_info": {
   "codemirror_mode": {
    "name": "ipython",
    "version": 3
   },
   "file_extension": ".py",
   "mimetype": "text/x-python",
   "name": "python",
   "nbconvert_exporter": "python",
   "pygments_lexer": "ipython3",
   "version": "3.8.10"
  },
  "orig_nbformat": 4
 },
 "nbformat": 4,
 "nbformat_minor": 2
}
