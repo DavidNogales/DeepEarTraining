{
 "cells": [
  {
   "cell_type": "code",
   "execution_count": 1,
   "metadata": {},
   "outputs": [
    {
     "name": "stdout",
     "output_type": "stream",
     "text": [
      "Dockerfile  docker-compose.yaml  overrides.json\n",
      "README.md   notebooks\t\t requirements.txt\n"
     ]
    }
   ],
   "source": [
    "!ls"
   ]
  },
  {
   "cell_type": "code",
   "execution_count": 128,
   "metadata": {},
   "outputs": [
    {
     "data": {
      "text/plain": [
       "{'major': 0, 'dorian': 0, 'mixolidian': 0}"
      ]
     },
     "execution_count": 128,
     "metadata": {},
     "output_type": "execute_result"
    }
   ],
   "source": [
    "import re\n",
    "\n",
    "def get_song_notes(song):\n",
    "    notes =[]\n",
    "    return notes\n",
    "def get_key_notes(key):\n",
    "    notes = {}\n",
    "    return notes\n",
    "\n",
    "def get_song_key(song):\n",
    "    return ''\n",
    "\n",
    "def metric_notes_in_key_rate(song,key):\n",
    "    notes = get_song_notes(song)\n",
    "    key_notes = get_key_notes(key)\n",
    "    \n",
    "    total_notes = len(notes)\n",
    "\n",
    "    notes_in_key = 0\n",
    "\n",
    "    for current_note in notes:\n",
    "        if current_note in key_notes:\n",
    "            notes_in_key += 1\n",
    "    if notes_in_key !=0:    \n",
    "        rate = notes_in_key/total_notes\n",
    "    else:\n",
    "        rate = 0    \n",
    "    return 0\n",
    "\n",
    "def major_key(current_key):\n",
    "    return True\n",
    "\n",
    "def get_metrics(song):\n",
    "    current_key = get_song_key(song)\n",
    "    '''\n",
    "    @article{Sturm2016c,\n",
    "    author = {B. L. Sturm and O. Ben-Tal},\n",
    "    journal = {J. Creative Music Systems},\n",
    "    month = {Sep.},\n",
    "    number = {1},\n",
    "    title = {Taking the Models back to Music Practice: Evaluating Generative Transcription Models built using Deep Learning},\n",
    "    volume = {2},\n",
    "    year = {2017}}\n",
    "    '''    \n",
    "    keys_to_test = {\n",
    "        'minor':['natural','harmonic','melodic'],\n",
    "        'major':['major','dorian','mixolidian']\n",
    "        }\n",
    "    test_keys = keys_to_test['major'] if major_key(current_key) else keys_to_test['minor']\n",
    "    metrics = {}\n",
    "    for test_key in test_keys:\n",
    "        metrics[test_key] = metric_notes_in_key_rate(song,test_key)\n",
    "    return metrics\n",
    "\n",
    "\n",
    "current_song = '''M:4/4L:1/4K:Am|\"Am\"|\"Dm\"|\"E\"|\"E\"|\"Am\"|\"Dm\"|\"E\"|\"Am\"|]\n",
    "E|\"Am\"A3/2B/2A|\"Am\"e2e3/2d/2|\"Dm\"B3/2c/2A3/2B/2|\"E\"G/2E/2E3/2F/2G3/2B/2|\"E\"e3/2f/2e3/2d/2|\"Am\"B3/2c/2A3/2B/2|\"Dm\"c3/2d/2e3/2f/2|\"E\"e3/2d/2B3/2A/2|\"Am\"B3/2c/2A3/2B/2|\"Dm\"c/2d3/2e/2f3/2e/2|\"E\"e3/2d/2B3/2d/2|\"Am\"B/2A3/2c/2A3/2B/2|\"Dm\"c3/2d/2e3/2f/2|\"E\"e3/2d/2B3/2d/2|\"Am\"B3/2A/2A3/2B/2|\"Dm\"c3/2A/2B3/2c/2|\"E\"e3/2B/2e3/2d/2|\"Am\"B3/2c/2A3/2B/2|\"D\"c3/2d/2e3/2f/2|\"E\"e3/2d/2B3/2d/2|\"Am\"B/2A3/2A/2B3/2c/2|\"D\"d3/2A/2B3/2c/2|\"E\"B3/2A/2G3/2B/2|\"Am\"A3|]\n",
    "'''\n",
    "header, body = current_song.splitlines()\n",
    "get_metrics(current_song)"
   ]
  },
  {
   "cell_type": "code",
   "execution_count": 13,
   "metadata": {},
   "outputs": [
    {
     "data": {
      "text/plain": [
       "['M:4/4L:1/4K:G|\"I\"|\"IV\"|\"V\"|\"V\"|\"I\"|\"IV\"|\"V\"|\"I\"|]',\n",
       " '\"I\"G/2A/2B/2A/2G/2F/2|G/2A/2B/2A/2G/2F/2|\"IV\"E3/4F/4G/2E/2|C/2C/2C/2|\"V\"B,2|\"I\"G/2A/4G/2F/2E/2|\"IV\"C/2C/2C/2D/2E/2|\"V\"F/2B,/2D/2C/2B,/2|\"I\"G/2G/2G/2A/2|\"IV\"G/2A/4G/4F/4G/2|\"V\"F/2G/2F/2D/2|\"I\"E2|]']"
      ]
     },
     "execution_count": 13,
     "metadata": {},
     "output_type": "execute_result"
    }
   ],
   "source": [
    "current_song.splitlines()"
   ]
  },
  {
   "cell_type": "code",
   "execution_count": 70,
   "metadata": {},
   "outputs": [
    {
     "data": {
      "text/plain": [
       "49"
      ]
     },
     "execution_count": 70,
     "metadata": {},
     "output_type": "execute_result"
    }
   ],
   "source": [
    "from music21 import *\n",
    "abc_string = \"\"\"\n",
    "X:1\n",
    "T:Example\n",
    "M:4/4\n",
    "L:1/4\n",
    "K:G\n",
    "\"I\"^G/2_A/2B/2A/2G/2F/2|G/2A/2B/2A/2G/2F/2|\"IV\"E3/4F/4G/2E/2|C/2C/2C/2|\"V\"B,2|\"I\"G/2A/4G/2F/2E/2|\"IV\"C/2C/2C/2D/2E/2|\"V\"F/2B,/2D/2C/2B,/2|\"I\"G/2G/2G/2A/2|\"IV\"G/2A/4G/4F/4G/2|\"V\"F/2G/2F/2D/2|\"I\"E2|]\n",
    "\"\"\"\n",
    "abc_score = converter.parse(abc_string, format='abc')\n",
    "len(abc_score.pitches)"
   ]
  },
  {
   "cell_type": "code",
   "execution_count": 25,
   "metadata": {},
   "outputs": [
    {
     "data": {
      "text/plain": [
       "'X:1\\nT:Example\\nM:4/4\\nL:1/4\\nK:C\\nC D E F | G A B c |\\n'"
      ]
     },
     "execution_count": 25,
     "metadata": {},
     "output_type": "execute_result"
    }
   ],
   "source": [
    "abcFormat.ABCFile.extractReferenceNumber(abc_string, 1)"
   ]
  },
  {
   "cell_type": "code",
   "execution_count": 92,
   "metadata": {},
   "outputs": [
    {
     "data": {
      "text/plain": [
       "{'M': '1', 'L': '2', 'K': '3'}"
      ]
     },
     "execution_count": 92,
     "metadata": {},
     "output_type": "execute_result"
    }
   ],
   "source": [
    "dict(zip(['M','L','K'],['1','2','3']))"
   ]
  },
  {
   "cell_type": "code",
   "execution_count": 132,
   "metadata": {},
   "outputs": [
    {
     "name": "stdout",
     "output_type": "stream",
     "text": [
      "['M:4/4', 'L:1/4', 'K:Am|\"Am\"|\"Dm\"|\"E\"|\"E\"|\"Am\"|\"Dm\"|\"E\"|\"Am\"|]', 'E|\"Am\"A3/2B/2A|\"Am\"e2e3/2d/2|\"Dm\"B3/2c/2A3/2B/2|\"E\"G/2E/2E3/2F/2G3/2B/2|\"E\"e3/2f/2e3/2d/2|\"Am\"B3/2c/2A3/2B/2|\"Dm\"c3/2d/2e3/2f/2|\"E\"e3/2d/2B3/2A/2|\"Am\"B3/2c/2A3/2B/2|\"Dm\"c/2d3/2e/2f3/2e/2|\"E\"e3/2d/2B3/2d/2|\"Am\"B/2A3/2c/2A3/2B/2|\"Dm\"c3/2d/2e3/2f/2|\"E\"e3/2d/2B3/2d/2|\"Am\"B3/2A/2A3/2B/2|\"Dm\"c3/2A/2B3/2c/2|\"E\"e3/2B/2e3/2d/2|\"Am\"B3/2c/2A3/2B/2|\"D\"c3/2d/2e3/2f/2|\"E\"e3/2d/2B3/2d/2|\"Am\"B/2A3/2A/2B3/2c/2|\"D\"d3/2A/2B3/2c/2|\"E\"B3/2A/2G3/2B/2|\"Am\"A3|]']\n",
      "M:4/4\n",
      "L:1/4\n",
      "K:Am\n",
      "%|\"Am\"|\"Dm\"|\"E\"|\"E\"|\"Am\"|\"Dm\"|\"E\"|\"Am\"|]\n",
      "E|\"Am\"A3/2B/2A|\"Am\"e2e3/2d/2|\"Dm\"B3/2c/2A3/2B/2|\"E\"G/2E/2E3/2F/2G3/2B/2|\"E\"e3/2f/2e3/2d/2|\"Am\"B3/2c/2A3/2B/2|\"Dm\"c3/2d/2e3/2f/2|\"E\"e3/2d/2B3/2A/2|\"Am\"B3/2c/2A3/2B/2|\"Dm\"c/2d3/2e/2f3/2e/2|\"E\"e3/2d/2B3/2d/2|\"Am\"B/2A3/2c/2A3/2B/2|\"Dm\"c3/2d/2e3/2f/2|\"E\"e3/2d/2B3/2d/2|\"Am\"B3/2A/2A3/2B/2|\"Dm\"c3/2A/2B3/2c/2|\"E\"e3/2B/2e3/2d/2|\"Am\"B3/2c/2A3/2B/2|\"D\"c3/2d/2e3/2f/2|\"E\"e3/2d/2B3/2d/2|\"Am\"B/2A3/2A/2B3/2c/2|\"D\"d3/2A/2B3/2c/2|\"E\"B3/2A/2G3/2B/2|\"Am\"A3|]\n"
     ]
    },
    {
     "data": {
      "text/plain": [
       "['A', 'B', 'C', 'D', 'E', 'F', 'G', 'A']"
      ]
     },
     "execution_count": 132,
     "metadata": {},
     "output_type": "execute_result"
    }
   ],
   "source": [
    "def format_model_output(abc_song_model_output):\n",
    "    header_chars = ['M','L','K']\n",
    "    pattern = re.compile(r'([{}])'.format(''.join(header_chars)))\n",
    "    formatted_song = pattern.sub(r' \\1', abc_song_model_output)\n",
    "    print(formatted_song.split())\n",
    "    header_M,header_L,aux_header_K,song_body= formatted_song.split()\n",
    "    index = aux_header_K.find('|')\n",
    "    header_K = aux_header_K[:index]\n",
    "    header_comment = '%'+aux_header_K[index:]\n",
    "    song_metadata = [header_M,header_L,header_K,header_comment,song_body]\n",
    "    formatted_song = '\\n'.join(song_metadata)\n",
    "    return dict(zip(['M','L','K','chord_prog'],song_metadata)),formatted_song\n",
    "\n",
    "def get_song_key_obj(song_metadata):\n",
    "    song_key_metadata = abcFormat.ABCMetadata(song_metadata['K'])\n",
    "    song_key_metadata.preParse()\n",
    "    return song_key_metadata.getKeySignatureObject()\n",
    "\n",
    "current_song_metadata, current_song_formatted = format_model_output(current_song)\n",
    "abch = abcFormat.ABCHandler()\n",
    "abch.tokenize(current_song_formatted)\n",
    "print(current_song_formatted)\n",
    "key_obj = get_song_key_obj(current_song_metadata)\n",
    "[key_pitch.name for key_pitch in key_obj.pitches]"
   ]
  },
  {
   "cell_type": "code",
   "execution_count": 134,
   "metadata": {},
   "outputs": [
    {
     "name": "stdout",
     "output_type": "stream",
     "text": [
      "['M:4/4', 'L:1/4', 'K:Am|\"Am\"|\"Dm\"|\"E\"|\"E\"|\"Am\"|\"Dm\"|\"E\"|\"Am\"|]', 'E|\"Am\"A3/2B/2A|\"Am\"e2e3/2d/2|\"Dm\"B3/2c/2A3/2B/2|\"E\"G/2E/2E3/2F/2G3/2B/2|\"E\"e3/2f/2e3/2d/2|\"Am\"B3/2c/2A3/2B/2|\"Dm\"c3/2d/2e3/2f/2|\"E\"e3/2d/2B3/2A/2|\"Am\"B3/2c/2A3/2B/2|\"Dm\"c/2d3/2e/2f3/2e/2|\"E\"e3/2d/2B3/2d/2|\"Am\"B/2A3/2c/2A3/2B/2|\"Dm\"c3/2d/2e3/2f/2|\"E\"e3/2d/2B3/2d/2|\"Am\"B3/2A/2A3/2B/2|\"Dm\"c3/2A/2B3/2c/2|\"E\"e3/2B/2e3/2d/2|\"Am\"B3/2c/2A3/2B/2|\"D\"c3/2d/2e3/2f/2|\"E\"e3/2d/2B3/2d/2|\"Am\"B/2A3/2A/2B3/2c/2|\"D\"d3/2A/2B3/2c/2|\"E\"B3/2A/2G3/2B/2|\"Am\"A3|]']\n",
      "-------------------------\n",
      "Key A minor\n",
      "In Key:  160\n",
      "Not in Key: 10\n",
      "-------------------------\n"
     ]
    },
    {
     "data": {
      "text/plain": [
       "<music21.graph.plot.HistogramPitchClass for <music21.stream.Stream 0x7ff8e65d0910>>"
      ]
     },
     "execution_count": 134,
     "metadata": {},
     "output_type": "execute_result"
    },
    {
     "data": {
      "image/png": "[encoded data removed]",
      "text/plain": [
       "<Figure size 600x600 with 1 Axes>"
      ]
     },
     "metadata": {
      "image/png": {
       "height": 540,
       "width": 511
      }
     },
     "output_type": "display_data"
    }
   ],
   "source": [
    "other_abc_string = \"\"\"\n",
    "X:1\n",
    "T:Example\n",
    "M:4/4\n",
    "L:1/4\n",
    "K:G\n",
    "\"G\"G/2A/2B/2A/2G/2F/2|G/2A/2B/2A/2G/2F/2|\"IV\"E3/4F/4G/2E/2|C/2C/2C/2|\"V\"B,2|\"I\"G/2A/4G/2F/2E/2|\"IV\"C/2C/2C/2D/2E/2|\"V\"F/2B,/2D/2C/2B,/2|\"I\"G/2G/2G/2A/2|\"IV\"G/2A/4G/4F/4G/2|\"V\"F/2G/2F/2D/2|\"I\"E2|]\n",
    "\"\"\"\n",
    "current_song_metadata, current_song_formatted = format_model_output(current_song)\n",
    "examples_stream = stream.Stream()\n",
    "abc_scores = [current_song_formatted]\n",
    "streams = []\n",
    "for abc_song in abc_scores:\n",
    "    print('-----'*5)\n",
    "    parsed_abc_song = converter.parse(abc_song, format='abc')\n",
    "    examples_stream.insert(examples_stream.highestTime, parsed_abc_song)\n",
    "    current_key = parsed_abc_song.analyze('key')\n",
    "    current_key_pitches = [key_pitch.name for key_pitch in current_key.pitches]\n",
    "    current_pitches = parsed_abc_song.pitches\n",
    "    count_pitches_in_key = 0\n",
    "    count_pitches_not_in_key = 0\n",
    "    for pitch in current_pitches:\n",
    "        if pitch.name in current_key_pitches:\n",
    "            count_pitches_in_key += 1\n",
    "        else:\n",
    "            count_pitches_not_in_key += 1\n",
    "    print('Key',current_key.name)\n",
    "    print('In Key: ', count_pitches_in_key)\n",
    "    print('Not in Key:', count_pitches_not_in_key)\n",
    "    print('-----'*5)\n",
    "examples_stream.plot('histogram', 'pitchClass')"
   ]
  },
  {
   "cell_type": "code",
   "execution_count": 42,
   "metadata": {},
   "outputs": [
    {
     "data": {
      "text/plain": [
       "<music21.graph.plot.HistogramPitchSpace for <music21.stream.Stream 0x7ff8e8874d60>>"
      ]
     },
     "execution_count": 42,
     "metadata": {},
     "output_type": "execute_result"
    },
    {
     "data": {
      "image/png": "[encoded data removed]",
      "text/plain": [
       "<Figure size 1000x600 with 1 Axes>"
      ]
     },
     "metadata": {
      "image/png": {
       "height": 540,
       "width": 811
      }
     },
     "output_type": "display_data"
    }
   ],
   "source": [
    "examples_stream.plot('histogram', 'pitch')"
   ]
  },
  {
   "cell_type": "code",
   "execution_count": 68,
   "metadata": {},
   "outputs": [],
   "source": [
    "something =abcFormat.ABCMetadata(current_song).preParse()\n"
   ]
  },
  {
   "cell_type": "code",
   "execution_count": 73,
   "metadata": {},
   "outputs": [
    {
     "data": {
      "text/plain": [
       "'hello . . .  (world ) !'"
      ]
     },
     "execution_count": 73,
     "metadata": {},
     "output_type": "execute_result"
    }
   ],
   "source": [
    "A = ['M', 'K', 'L', '|']\n",
    "B = \"hello... (world)!\"\n",
    "pattern = re.compile(r'([{}])'.format(''.join(A)))\n",
    "new_string = pattern.sub(r' \\1', B)\n",
    "new_string"
   ]
  },
  {
   "cell_type": "code",
   "execution_count": 188,
   "metadata": {},
   "outputs": [
    {
     "data": {
      "text/plain": [
       "{'hd-8-ly-12-embd-240': './notebooks/nanoGPT/older_ckpt/hd-8-ly-12-embd-240',\n",
       " 'hd-8-ly-12-embd-280': './notebooks/nanoGPT/older_ckpt/hd-8-ly-12-embd-280',\n",
       " 'hd-8-ly-12-embd-368': './notebooks/nanoGPT/older_ckpt/hd-8-ly-12-embd-368',\n",
       " 'hd_8_ly_6_bch_84': './notebooks/nanoGPT/older_ckpt/hd_8_ly_6_bch_84',\n",
       " 'hd-8-ly-12-embd-320': './notebooks/nanoGPT/older_ckpt/hd-8-ly-12-embd-320',\n",
       " 'hd-8-ly-16-rn-data': './notebooks/nanoGPT/older_ckpt/hd-8-ly-16-rn-data',\n",
       " 'hd-12-ly-12': './notebooks/nanoGPT/older_ckpt/hd-12-ly-12',\n",
       " 'm_voices': './notebooks/nanoGPT/older_ckpt/m_voices',\n",
       " 'hd-8-ly-12-bt-4': './notebooks/nanoGPT/older_ckpt/hd-8-ly-12-bt-4',\n",
       " 'hd-8-ly-12-bt4-ovrf': './notebooks/nanoGPT/older_ckpt/hd-8-ly-12-bt4-ovrf',\n",
       " 'hd-8-ly-16': './notebooks/nanoGPT/older_ckpt/hd-8-ly-16',\n",
       " 't_data': './notebooks/nanoGPT/older_ckpt/t_data',\n",
       " 'hd-8-ly-12-bt-8': './notebooks/nanoGPT/older_ckpt/hd-8-ly-12-bt-8',\n",
       " 'hd-8-ly-12-bt-16': './notebooks/nanoGPT/older_ckpt/hd-8-ly-12-bt-16',\n",
       " 'hd-8-ly-12-bt-1': './notebooks/nanoGPT/older_ckpt/hd-8-ly-12-bt-1',\n",
       " 'hd-8-ly-12-rn-data': './notebooks/nanoGPT/older_ckpt/hd-8-ly-12-rn-data',\n",
       " 'hd-12-ly-12-rn-data': './notebooks/nanoGPT/older_ckpt/hd-12-ly-12-rn-data',\n",
       " 'hd-8-ly-12': './notebooks/nanoGPT/older_ckpt/hd-8-ly-12',\n",
       " 'hd-8-ly-12-bt-64': './notebooks/nanoGPT/older_ckpt/hd-8-ly-12-bt-64',\n",
       " 'hd_8_ly_6_bch_48': './notebooks/nanoGPT/older_ckpt/hd_8_ly_6_bch_48',\n",
       " 'hd-8-ly-12-bt-4-rn-data': './notebooks/nanoGPT/older_ckpt/hd-8-ly-12-bt-4-rn-data',\n",
       " 'hd-8-ly-12-bt-4-ctx-256': './notebooks/nanoGPT/older_ckpt/hd-8-ly-12-bt-4-ctx-256',\n",
       " 'hd-8-ly-12-bt-4-ctx-1024': './notebooks/nanoGPT/older_ckpt/hd-8-ly-12-bt-4-ctx-1024',\n",
       " 'single_voice': './notebooks/nanoGPT/older_ckpt/single_voice',\n",
       " 'embd_396': './notebooks/nanoGPT/older_ckpt/embd_396'}"
      ]
     },
     "execution_count": 188,
     "metadata": {},
     "output_type": "execute_result"
    }
   ],
   "source": [
    "import os\n",
    "\n",
    "def get_subfolders_names(path):\n",
    "    return [x[0] for x in os.walk(path)]\n",
    "\n",
    "def get_files_with_prefix(path, prefix):\n",
    "    return [each for each in os.listdir(path) if each.startswith(prefix)]\n",
    "\n",
    "def read_files_in_directory(path, prefix):\n",
    "    files = get_files_with_prefix(path, prefix)\n",
    "    contents = []\n",
    "    for file in files:\n",
    "        with open(path+'/'+file, 'r') as f:\n",
    "            content = f.read()\n",
    "            contents.append(content)\n",
    "    return dict(zip(files,contents))\n",
    "\n",
    "    \n",
    "experiments_main_path = './notebooks/nanoGPT/older_ckpt/'\n",
    "experiments_paths = get_subfolders_names(experiments_main_path)[1:]    \n",
    "experiments = {path.split('/')[-1]:path for path in experiments_paths}\n",
    "experiments"
   ]
  },
  {
   "cell_type": "code",
   "execution_count": 189,
   "metadata": {},
   "outputs": [],
   "source": [
    "example='''Overriding: out_dir = out-abc-char\n",
    "Overriding: start = M:4/4L:1/4K:C|\"I\"|\"IV\"|\"V\"|\"V\"|\"I\"|\"IV\"|\"V\"|\"I\"|]\n",
    "number of parameters: 28.34M\n",
    "abc_roman_num_char\n",
    "Loading meta from data/abc_roman_num_char/meta.pkl...\n",
    "M:4/4L:1/4K:C|\"I\"|\"IV\"|\"V\"|\"V\"|\"I\"|\"IV\"|\"V\"|\"I\"|]\n",
    "e/2|\"I\"g/2g/4a/4g/4a/4g/4e/4|\"V\"d/2d/2f/4d/4B/2|\"I\"c/2c/4c/4c/4e/4g/4|\"IV\"a/2a/2a/4g/4f/4e/4|\"V\"d/2d/2d/4d/4B/4d/4|\"V\"d/2d/4d/4d/4d/4d/4B/4|\"I\"c3/2|g/4f/4|\"I\"e/2e/2c/4e/4c/2b/4|\"IV\"a/2a/2a/4g/4f/4e/4|\"V\"d/2d/2d/2b/4c'/4|\"I\"c'/2c'/2b/4c'/4g/4e/2|\"IV\"a/2a/2a/4g/4f/4e/4|\"V\"d/2d/4d/4d/4B/2|\"I\"c3/2|]\n",
    "\n",
    "M:4/4\n",
    "L:1/4\n",
    "K:C\n",
    "|\"I\"\"IV\"|\"I\"|\"I\"\"IV\"|\"I\"|\"V\"\"IV\"|\"I\"|\"I\"\"V\"|\"I\"\"IV\"|\"I\"\"IV\"|\"V\"\"I\"|\"I\"\"IV\"|\"I\"\"ii\"|\"V\"\"I\"|]\n",
    "(3G/2A/2B/2|\"I\"c/2e/2e/2e/2\"IV\"f/2e/2f/2g/2e/2|\"I\"e/2d/2c/2F/2A/2G/2E/2G/2|\"I\"c/2A/2B/2c/2e/2\n",
    "---------------\n",
    "M:4/4L:1/4K:C|\"I\"|\"IV\"|\"V\"|\"V\"|\"I\"|\"IV\"|\"V\"|\"I\"|]\n",
    "c|\"I\"f/2g/2g/2f/2e/2d/2|\"IV\"c3/4d/4c/4B/2A/2|\"V\"G/2A/2B/2c/2d/2|\"V\"e/2g/2f/2e/2d/2|\"I\"cf/4g/4a/4f/2e/2d/2|\"IV\"c3/2d/2c/2|\"V\"d/2e/2d/2c/2B/2|G/2A/2B/2c/4e/2d/2|\"I\"c2|]\n",
    "\n",
    "M:4/4\n",
    "L:1/4\n",
    "K:C\n",
    "|\"I\"|\"VII\"|\"VII\"|\"I\"|\"I\"|\"IV\"|\"I\"|\"VII\"|\"I\"|\"I\"|\"IV\"|\"VII\"|\"I\"|\"I\"|\"IV\"|\"VII\"|\"I\"|]\n",
    "e|\"I\"c'2g|\"VII\"d2e|\"I\"c'2a|\"I\"c'2a|\"IV\"g2a|\"VII\"b2b|\"I\"c'2a|\"I\"g3-|\"I\"g2b|\"IV\"g3/2a/2g|\"VII\"d2e|\"I\"c'2a|\"I\"c'2c'|\"IV\"a3/2a/2g|\"VII\"f2e|\"I\"c2e|\"I\"c'2c'|\"IV\"a3/2a/2g|\"VII\"f2A|\"I\"G2d|\"I\"c'2a|\"IV\"g3/2a/2g|\"VII\"f2e|\"I\"c2|]\n",
    "\n",
    "M:4/4\n",
    "L:1/4\n",
    "\n",
    "---------------\n",
    "M:4/4L:1/4K:C|\"I\"|\"IV\"|\"V\"|\"V\"|\"I\"|\"IV\"|\"V\"|\"I\"|]\n",
    "c/4d/4|\"I\"e/2e/4e/4g/4f/4e/4d/4e/4|\"IV\"f/2f/2f/4e/4d/4e/4|\"V\"f/2f/2f/4f/4f/4e/4d/4|\"I\"c/2c/4c/4e/2a/4|\"IV\"a/2a/2a/4f/4e/4d/4e/4|\"V\"f/2f/4g/4a/4b/4c'/4b/4|\"I\"c'/2c'/2c'/2a/4b/4|\"IV\"a/2b/4c'/2b/4a/4f/4e/4|\"V\"f/2f/4f/4f/4f/4e/4d/4e/4|\"I\"c3/2|]\n",
    "\n",
    "M:2/4\n",
    "L:1/4\n",
    "K:C\n",
    "|\"V\"|\"I\"|\"VI\"|\"ii\"|\"I\"|\"V\"|\"I\"|\"V\"|\"I\"|\"VI\"|\"ii\"|\"ii\"\"V\"|\"I\"|\"I\"|\"IV\"|\"I\"|\"V\"|\"I\"|\"IV\"|\"I\"|\"VI\"|\"ii\"|\"V\"|\"I\"|]\n",
    "\"V\"c'__b|\"I\"c'c'c'd'c'|\"VI\"bd'-d'/2_d'c'|\"ii\"bbba|\"I\"gc'c'=_b|\"V\"c'2ba|\"I\"c'c'c'd'|\"V\"bd'_d'=d'd'|\"I\"c'c'c'b|\"VI\"bd'_d'_d'|\"ii\"e'c\n",
    "---------------\n",
    "M:4/4L:1/4K:C|\"I\"|\"IV\"|\"V\"|\"V\"|\"I\"|\"IV\"|\"V\"|\"I\"|]\n",
    "GB|\"I\"e2e3/2f/2|\"I\"g2f3/2e/2|\"IV\"ff2e|\"V\"d2d3/2f/2|\"V\"df2f/2f/2|\"V\"a2g/2f/2|\"I\"e3/2f/2e3/2f/2|\"I\"g2e3/2f/2|\"IV\"agd|\"V\"df2e/2d/2|\"V\"cBcd|\"I\"eee|\"I\"g2e3/2f/2|\"IV\"agd|\"V\"d2d|\"IV\"c'b3/2a/2|\"V\"gfe|\"I\"c2|]\n",
    "\n",
    "M:4/4\n",
    "L:1/4\n",
    "K:G\n",
    "|\"I\"|\"I\"|\"IV\"|\"I\"|\"V\"|\"I\"\"V\"|\"I\"|\"I\"|\"I\"|\"II\"|\"V\"|\"I\"|\"IV\"|\"I\"|\"IV\"\"I\"|\"V\"\"I\"|\"I\"|\"V\"\"I\"|\"V\"\"I\"|]\n",
    "\"I\"G/2A/2B/2c/2d/2e/2f/2g/2a/2|b/2a/2g/2f/2e/2dB|\"I\"G/2A/2B/2c/2d/2e/2f/2g/2a/2|\"IV\"b/2a/2g/2f/2e/2d/2e/2f/2g/2a/2|\"I\"b/2a/2g/2f/2e/2dB|\"V\"A/2B/2c/2d/2c/2B/2A/2B/2c/2d/2|\"I\"g/2f/2e/2d/\n",
    "---------------\n",
    "M:4/4L:1/4K:C|\"I\"|\"IV\"|\"V\"|\"V\"|\"I\"|\"IV\"|\"V\"|\"I\"|]\n",
    "\"I\"g2ge|gfg3/2g/2|\"IV\"bagf|\"V\"ef3/2g/2|fedc|\"V\"B2aa/2=a/2|\"I\"ggag|gfg3/2|\"I\"ge\"IV\"ff|\"V\"ef3|efd=f|\"V\"B4|bag=f|e=fgf|e4|\"I\"ge3/2e/2|gedc|\"IV\"agf3/2g/2|afdf|\"V\"ef3/2g/2fe|d4|\"V\"Bdc_e|\"I\"gege|ged=f|\"I\"c4|\"IV\"agf3/2g/2|agfc|agfc|A4|\"V\"Bdc=e|fd=f|\"V\"B4|bagf|\"I\"e4|ge=f_f|\"IV\"ecd3/2c/2|agfe|\"V\"d4|Bdc=f|ef=fd|\"V\"B2a2|\"I\"bge_f|\"IV\"ecc3/2c/2|\"V\"B2a2|\"I\"gedc|\"I\"c4-|c4|]\n",
    "\n",
    "M:4/4\n",
    "L:1/4\n",
    "K:G\n",
    "|\"I\"|\"I\"|\"IV\"|\"V\"|\"I\"|\"I\"|\"I\"|\"IV\"|\"V\"|\"I\"\"I\"|\"IV\"|\"V\"|\"I\"|\"I\"|\"II\"|\"II\"\"II\"|\"V\"\"I\"|\"I\"|\"I\"|\"IV\"|\"I\"|\"V\"|\"V\"|\"I\"\"IV\"|\"V\"\n",
    "---------------\n",
    "M:4/4L:1/4K:C|\"I\"|\"IV\"|\"V\"|\"V\"|\"I\"|\"IV\"|\"V\"|\"I\"|]\n",
    "Ge|\"I\"ggg|c/2c/2c/2e/2gg|\"IV\"acfa|\"V\"g2-g/2^f/2d/2|\"V\"d/2f/2d/2d/2ed|\"I\"c4|\"I\"cged|\"I\"cgec|\"I\"c/2c/2c/2c/2e/2gg|\"IV\"a/2c/2c/2c/2d/2e/2f/2e/2d/2|\"V\"d/2f/2a/2b/2b/2b/2c'/2b/2a/2|\"I\"gcc2|\"V\"g/2g/2^f/2g/2^f/2e/2=d/2B/2e/2|\"I\"c/2c/2c/2c/2e/2gg|\"II\"f/2^e/2f/2g/2a/2c'/2a/2g/2f/2|\"I\"e/2g/2c/2c/2c/2eg|\"V\"daGGB|\"I\"c/2c/2c/2c/2e/2gg|\"I\"g/2c/2c/2c/2e/2gg|\"IV\"a/2c/2c/2c/2d/2e/2f/2e/2d/2|\"V\"d/2f/2a/2b/2b/2c'/2b/2a/2g/2f/2|\"I\"c3|]\n",
    "\n",
    "M:4/4\n",
    "L:1/4\n",
    "K:G\n",
    "|\"I\"|\"I\"|\"I\"\"vi\"|\"ii\"\"V\"|\"I\"|\"I\"|\"I\"|\"I\"\"V\"|\"I\"\"vi\"|\"ii\"\"V\"|\"I\n",
    "---------------\n",
    "M:4/4L:1/4K:C|\"I\"|\"IV\"|\"V\"|\"V\"|\"I\"|\"IV\"|\"V\"|\"I\"|]\n",
    "\"V\"cd|\"I\"e3/2d/2ce|\"I\"gab3/2a/2|\"IV\"gfed|\"V\"defg|\"V\"f2f2|\"I\"c3/2d/2ce|\"IV\"fdd3/2d/2|\"V\"dcBg|\"V\"agfe|\"I\"d4-|\"I\"c2|]\n",
    "\n",
    "M:4/4\n",
    "L:1/4\n",
    "K:G\n",
    "|\"V\"|\"I\"|\"V\"\"I\"|\"V\"|\"V\"|\"I\"|\"V\"|\"V\"|\"I\"\"I\"|\"I\"\"I\"|\"IV\"|\"IV\"|\"V\"|\"ii\"\"V\"|\"I\"|\"I\"\"V\"|\"I\"|\"I\"|\"V\"|\"V\"|\"I\"\"V\"|\"I\"|\"I\"\"V\"|\"I\"|\"I\"|\"IV\"|\"ii\"|\"V\"|\"I\"\"V\"|\"I\"|]\n",
    "\"V\"GA|\"I\"Bd/2d/2dd|\"V\"Ac/2c/2ce|\"I\"dg/2g/2gg|\"V\"GA\"I\"BG|\"V\"GA/2c/2ce|\"V\"Ac/2c/2ce|\"I\"dg\"I\"gf|\"I\"g/2g/2g\"I\"dB|\"IV\"ef/2e/2dcd|\"ii\"e3\"V\"d/2e/2|\"I\"dd\"V\"de|\"I\"g/2a/2g\"V\"ag|\"I\"g3|A|\"I\"B2BG|\"V\"A2FD|\"V\"F2de|\"I\"dd/2d/2\"V\"dc|\n",
    "---------------\n",
    "M:4/4L:1/4K:C|\"I\"|\"IV\"|\"V\"|\"V\"|\"I\"|\"IV\"|\"V\"|\"I\"|]\n",
    "(3G/2A/2_G/2|\"I\"_G/2d/2G/2B/2G/2c/2d/2|e/2G/2d/2G/2d/2G/2f/2G/2|\"IV\"e/2c/2A/2c/2e/2d/2c/2A/2|\"V\"=G/2B/2d/2G/2d/2G/2f/2G/2_g/2f/2|\"I\"e/2G/2e/2G/2e/2G/2e/2G/2|e/2G/2d/2G/2d/2G/2f/2G/2|\"IV\"e/2c/2A/2c/2e/2d/2c/2A/2|\"V\"G/2^F/2G/2A/2BA|\"I\"GcG|]\n",
    "\n",
    "M:4/4\n",
    "L:1/4\n",
    "K:C\n",
    "|\"I\"|\"I\"|\"ii\"\"V\"|\"I\"|\"I\"|\"I\"\"vi\"|\"ii\"\"V\"|\"I\"|\"I\"|\"I\"\"vi\"|\"ii\"\"V\"|\"I\"|\"I\"\"vi\"|\"ii\"\"V\"|\"I\"|\"I\"\"vi\"|\"ii\"\"V\"|\"I\"\"vi\"|\"ii\"\"V\"|\"I\"|]\n",
    "G/2F/2|\"I\"E/2D/2C/2E/2GG/2A/2|\"I\"ccG/2A/2G/2F/2|\"ii\"A/2G/2A/2G/2\"V\"F/2D/2E/2F/2|\"I\"E/2D/2C/2E/2GG/2A/2|\"I\"cc\"vi\"d/2c\n",
    "---------------\n",
    "M:4/4L:1/4K:C|\"I\"|\"IV\"|\"V\"|\"V\"|\"I\"|\"IV\"|\"V\"|\"I\"|]\n",
    "e|\"I\"gga|a/2^g/2a/2b/2c'/2b/2|\"IV\"c'ca|a/2a/2a/2g/2f/2|\"V\"d/2e/2f/2d/2c/2d/2|\"V\"e/2^d/2e/2f/2-f/2|a/2^g/2a/2b/2c'/2b/2|\"I\"gga|\"IV\"a/2^g/2a/2b/2c'/2a/2|\"V\"g/2g/2g/2g/2a/2b/2c'/2|\"I\"c'c'c'g|\"IV\"a/2^g/2a/2b/2c'/2b/2a/2|\"V\"g/2g/2e/2dc/2d/2|\"I\"e/2^d/2e/2f/2-f/2g/2f/2|\"IV\"a/2a/2a/2c'/2a/2c'/2a/2|\"V\"g/2e/2g/2b/2c'/2b/2a/2|\"I\"g/2g/2g/2g/2c|]\n",
    "\n",
    "M:4/4\n",
    "L:1/4\n",
    "K:Db\n",
    "|\"I\"|\"I\"|\"I\"|\"IV\"\"I\"|\"ii\"\"V\"|\"I\"|\"I\"|\"I\"|\"IV\"\"I\"|\"V\"\"I\"|\"I\"|\"IV\"\"V\"|\"I\"|\"IV\"\"I\"|\"V\"\"I\"|]\n",
    "a|\"I\"def/2d/2f/2e/2d/2|\"I\"dfa3/2b/2|\"IV\"ag\"I\"a2|\"ii\"ba\"V\n",
    "---------------\n",
    "M:4/4L:1/4K:C|\"I\"|\"IV\"|\"V\"|\"V\"|\"I\"|\"IV\"|\"V\"|\"I\"|]\n",
    "e/2|\"I\"gce/2|g/2a/2g/2f/2|e/2c/2G/2B/2|\"IV\"d/2e/2g3/2f/2|\"V\"e/2d/2c/2d/2e/2|\"V\"f/2d/2c/2B/2d/2|\"I\"g/2c/2G/2B/2c/2|\"IV\"d/2e/2g3/2f/2|\"V\"e/2d/2c/2d/2e/2|\"I\"gcc/2d/2|\"V\"e/2d/2c/2d/2e/2f/2g/2|\"I\"ac3/2d/2|\"IV\"f/2e/2d/2e/2f/2g/2|a/2g/2f/2e/2d/2|\"V\"c/2d/2e/2f/2a/2g/2|\"I\"acc/2d/2|\"IV\"f/2e/2d/2e/2f/2g/2f/2|\"V\"e/2d/2c/2B/2A/2G/2|\"I\"ccB/2c/2|\"IV\"d/2e/2g/2f/2g/2f/2e/2|\"V\"d/2c/2d/2e/2f/2g/2|\"I\"acc|\"I\"c'/2b/2a/2c/2g/2c/2|\"IV\"f/2e/2d/2e/2f/2g/2|\"V\"abb/2c'/2|\"IV\"d'/2c'/2b/2c'/2b/2a/2|\"V\"g/2f/2g/2a/2b/2g/2|\"I\"a\n",
    "---------------\n",
    "\n",
    "'''"
   ]
  },
  {
   "cell_type": "code",
   "execution_count": 245,
   "metadata": {},
   "outputs": [
    {
     "name": "stdout",
     "output_type": "stream",
     "text": [
      "num. song samples: 10\n"
     ]
    },
    {
     "data": {
      "text/plain": [
       "['M:4/4L:1/4K:C|\"I\"|\"IV\"|\"V\"|\"V\"|\"I\"|\"IV\"|\"V\"|\"I\"|]\\ne/2|\"I\"g/2g/4a/4g/4a/4g/4e/4|\"V\"d/2d/2f/4d/4B/2|\"I\"c/2c/4c/4c/4e/4g/4|\"IV\"a/2a/2a/4g/4f/4e/4|\"V\"d/2d/2d/4d/4B/4d/4|\"V\"d/2d/4d/4d/4d/4d/4B/4|\"I\"c3/2|g/4f/4|\"I\"e/2e/2c/4e/4c/2b/4|\"IV\"a/2a/2a/4g/4f/4e/4|\"V\"d/2d/2d/2b/4c\\'/4|\"I\"c\\'/2c\\'/2b/4c\\'/4g/4e/2|\"IV\"a/2a/2a/4g/4f/4e/4|\"V\"d/2d/4d/4d/4B/2|\"I\"c3/2|]',\n",
       " 'M:4/4L:1/4K:C|\"I\"|\"IV\"|\"V\"|\"V\"|\"I\"|\"IV\"|\"V\"|\"I\"|]\\nc|\"I\"f/2g/2g/2f/2e/2d/2|\"IV\"c3/4d/4c/4B/2A/2|\"V\"G/2A/2B/2c/2d/2|\"V\"e/2g/2f/2e/2d/2|\"I\"cf/4g/4a/4f/2e/2d/2|\"IV\"c3/2d/2c/2|\"V\"d/2e/2d/2c/2B/2|G/2A/2B/2c/4e/2d/2|\"I\"c2|]',\n",
       " 'M:4/4L:1/4K:C|\"I\"|\"IV\"|\"V\"|\"V\"|\"I\"|\"IV\"|\"V\"|\"I\"|]\\nc/4d/4|\"I\"e/2e/4e/4g/4f/4e/4d/4e/4|\"IV\"f/2f/2f/4e/4d/4e/4|\"V\"f/2f/2f/4f/4f/4e/4d/4|\"I\"c/2c/4c/4e/2a/4|\"IV\"a/2a/2a/4f/4e/4d/4e/4|\"V\"f/2f/4g/4a/4b/4c\\'/4b/4|\"I\"c\\'/2c\\'/2c\\'/2a/4b/4|\"IV\"a/2b/4c\\'/2b/4a/4f/4e/4|\"V\"f/2f/4f/4f/4f/4e/4d/4e/4|\"I\"c3/2|]',\n",
       " 'M:4/4L:1/4K:C|\"I\"|\"IV\"|\"V\"|\"V\"|\"I\"|\"IV\"|\"V\"|\"I\"|]\\nGB|\"I\"e2e3/2f/2|\"I\"g2f3/2e/2|\"IV\"ff2e|\"V\"d2d3/2f/2|\"V\"df2f/2f/2|\"V\"a2g/2f/2|\"I\"e3/2f/2e3/2f/2|\"I\"g2e3/2f/2|\"IV\"agd|\"V\"df2e/2d/2|\"V\"cBcd|\"I\"eee|\"I\"g2e3/2f/2|\"IV\"agd|\"V\"d2d|\"IV\"c\\'b3/2a/2|\"V\"gfe|\"I\"c2|]',\n",
       " 'M:4/4L:1/4K:C|\"I\"|\"IV\"|\"V\"|\"V\"|\"I\"|\"IV\"|\"V\"|\"I\"|]\\n\"I\"g2ge|gfg3/2g/2|\"IV\"bagf|\"V\"ef3/2g/2|fedc|\"V\"B2aa/2=a/2|\"I\"ggag|gfg3/2|\"I\"ge\"IV\"ff|\"V\"ef3|efd=f|\"V\"B4|bag=f|e=fgf|e4|\"I\"ge3/2e/2|gedc|\"IV\"agf3/2g/2|afdf|\"V\"ef3/2g/2fe|d4|\"V\"Bdc_e|\"I\"gege|ged=f|\"I\"c4|\"IV\"agf3/2g/2|agfc|agfc|A4|\"V\"Bdc=e|fd=f|\"V\"B4|bagf|\"I\"e4|ge=f_f|\"IV\"ecd3/2c/2|agfe|\"V\"d4|Bdc=f|ef=fd|\"V\"B2a2|\"I\"bge_f|\"IV\"ecc3/2c/2|\"V\"B2a2|\"I\"gedc|\"I\"c4-|c4|]',\n",
       " 'M:4/4L:1/4K:C|\"I\"|\"IV\"|\"V\"|\"V\"|\"I\"|\"IV\"|\"V\"|\"I\"|]\\nGe|\"I\"ggg|c/2c/2c/2e/2gg|\"IV\"acfa|\"V\"g2-g/2^f/2d/2|\"V\"d/2f/2d/2d/2ed|\"I\"c4|\"I\"cged|\"I\"cgec|\"I\"c/2c/2c/2c/2e/2gg|\"IV\"a/2c/2c/2c/2d/2e/2f/2e/2d/2|\"V\"d/2f/2a/2b/2b/2b/2c\\'/2b/2a/2|\"I\"gcc2|\"V\"g/2g/2^f/2g/2^f/2e/2=d/2B/2e/2|\"I\"c/2c/2c/2c/2e/2gg|\"II\"f/2^e/2f/2g/2a/2c\\'/2a/2g/2f/2|\"I\"e/2g/2c/2c/2c/2eg|\"V\"daGGB|\"I\"c/2c/2c/2c/2e/2gg|\"I\"g/2c/2c/2c/2e/2gg|\"IV\"a/2c/2c/2c/2d/2e/2f/2e/2d/2|\"V\"d/2f/2a/2b/2b/2c\\'/2b/2a/2g/2f/2|\"I\"c3|]',\n",
       " 'M:4/4L:1/4K:C|\"I\"|\"IV\"|\"V\"|\"V\"|\"I\"|\"IV\"|\"V\"|\"I\"|]\\n\"V\"cd|\"I\"e3/2d/2ce|\"I\"gab3/2a/2|\"IV\"gfed|\"V\"defg|\"V\"f2f2|\"I\"c3/2d/2ce|\"IV\"fdd3/2d/2|\"V\"dcBg|\"V\"agfe|\"I\"d4-|\"I\"c2|]',\n",
       " 'M:4/4L:1/4K:C|\"I\"|\"IV\"|\"V\"|\"V\"|\"I\"|\"IV\"|\"V\"|\"I\"|]\\n(3G/2A/2_G/2|\"I\"_G/2d/2G/2B/2G/2c/2d/2|e/2G/2d/2G/2d/2G/2f/2G/2|\"IV\"e/2c/2A/2c/2e/2d/2c/2A/2|\"V\"=G/2B/2d/2G/2d/2G/2f/2G/2_g/2f/2|\"I\"e/2G/2e/2G/2e/2G/2e/2G/2|e/2G/2d/2G/2d/2G/2f/2G/2|\"IV\"e/2c/2A/2c/2e/2d/2c/2A/2|\"V\"G/2^F/2G/2A/2BA|\"I\"GcG|]',\n",
       " 'M:4/4L:1/4K:C|\"I\"|\"IV\"|\"V\"|\"V\"|\"I\"|\"IV\"|\"V\"|\"I\"|]\\ne|\"I\"gga|a/2^g/2a/2b/2c\\'/2b/2|\"IV\"c\\'ca|a/2a/2a/2g/2f/2|\"V\"d/2e/2f/2d/2c/2d/2|\"V\"e/2^d/2e/2f/2-f/2|a/2^g/2a/2b/2c\\'/2b/2|\"I\"gga|\"IV\"a/2^g/2a/2b/2c\\'/2a/2|\"V\"g/2g/2g/2g/2a/2b/2c\\'/2|\"I\"c\\'c\\'c\\'g|\"IV\"a/2^g/2a/2b/2c\\'/2b/2a/2|\"V\"g/2g/2e/2dc/2d/2|\"I\"e/2^d/2e/2f/2-f/2g/2f/2|\"IV\"a/2a/2a/2c\\'/2a/2c\\'/2a/2|\"V\"g/2e/2g/2b/2c\\'/2b/2a/2|\"I\"g/2g/2g/2g/2c|]',\n",
       " 'M:4/4L:1/4K:C|\"I\"|\"IV\"|\"V\"|\"V\"|\"I\"|\"IV\"|\"V\"|\"I\"|]\\ne/2|\"I\"gce/2|g/2a/2g/2f/2|e/2c/2G/2B/2|\"IV\"d/2e/2g3/2f/2|\"V\"e/2d/2c/2d/2e/2|\"V\"f/2d/2c/2B/2d/2|\"I\"g/2c/2G/2B/2c/2|\"IV\"d/2e/2g3/2f/2|\"V\"e/2d/2c/2d/2e/2|\"I\"gcc/2d/2|\"V\"e/2d/2c/2d/2e/2f/2g/2|\"I\"ac3/2d/2|\"IV\"f/2e/2d/2e/2f/2g/2|a/2g/2f/2e/2d/2|\"V\"c/2d/2e/2f/2a/2g/2|\"I\"acc/2d/2|\"IV\"f/2e/2d/2e/2f/2g/2f/2|\"V\"e/2d/2c/2B/2A/2G/2|\"I\"ccB/2c/2|\"IV\"d/2e/2g/2f/2g/2f/2e/2|\"V\"d/2c/2d/2e/2f/2g/2|\"I\"acc|\"I\"c\\'/2b/2a/2c/2g/2c/2|\"IV\"f/2e/2d/2e/2f/2g/2|\"V\"abb/2c\\'/2|\"IV\"d\\'/2c\\'/2b/2c\\'/2b/2a/2|\"V\"g/2f/2g/2a/2b/2g/2|\"I\"a']"
      ]
     },
     "execution_count": 245,
     "metadata": {},
     "output_type": "execute_result"
    }
   ],
   "source": [
    "def get_songs_from_sample(sample):\n",
    "    sample_split = '---------------\\n'\n",
    "    current_songs= sample.split(sample_split)[:-1]\n",
    "    ignore_lines =5\n",
    "    current_song = ''\n",
    "    initial_song = '\\n'.join(current_songs[0].splitlines()[5:7])\n",
    "    remaining_songs = current_songs[1:]\n",
    "    remaining_songs = ['\\n'.join(sample_song.splitlines()[:2]) for sample_song in remaining_songs]\n",
    "    song_samples = [initial_song]+remaining_songs\n",
    "    print('num. song samples:',len(song_samples))\n",
    "    return song_samples\n",
    "\n",
    "get_songs_from_sample(example)"
   ]
  },
  {
   "cell_type": "code",
   "execution_count": 246,
   "metadata": {},
   "outputs": [
    {
     "name": "stdout",
     "output_type": "stream",
     "text": [
      "hd-8-ly-12-embd-240\n",
      "examples_C.txt\n",
      "num. song samples: 10\n",
      "examples_G.txt\n",
      "num. song samples: 10\n",
      "examples_Am.txt\n",
      "num. song samples: 10\n",
      "--------------------------------------------------\n",
      "hd-8-ly-12-embd-280\n",
      "examples_C.txt\n",
      "num. song samples: 10\n",
      "examples_G.txt\n",
      "num. song samples: 10\n",
      "examples_Am.txt\n",
      "num. song samples: 10\n",
      "--------------------------------------------------\n",
      "hd-8-ly-12-embd-368\n",
      "examples_C.txt\n",
      "num. song samples: 10\n",
      "examples_G.txt\n",
      "num. song samples: 10\n",
      "examples_Am.txt\n",
      "num. song samples: 10\n",
      "--------------------------------------------------\n",
      "hd_8_ly_6_bch_84\n",
      "examples_C.txt\n",
      "num. song samples: 10\n",
      "examples_G.txt\n",
      "num. song samples: 10\n",
      "examples_Am.txt\n",
      "num. song samples: 10\n",
      "--------------------------------------------------\n",
      "hd-8-ly-12-embd-320\n",
      "examples_C.txt\n",
      "num. song samples: 10\n",
      "examples_G.txt\n",
      "num. song samples: 10\n",
      "examples_Am.txt\n",
      "num. song samples: 10\n",
      "--------------------------------------------------\n",
      "hd-8-ly-16-rn-data\n",
      "examples_C.txt\n",
      "num. song samples: 10\n",
      "examples_G.txt\n",
      "num. song samples: 10\n",
      "examples_Am.txt\n",
      "num. song samples: 10\n",
      "--------------------------------------------------\n",
      "hd-12-ly-12\n",
      "examples_C.txt\n",
      "num. song samples: 10\n",
      "examples_G.txt\n",
      "num. song samples: 10\n",
      "examples_Am.txt\n",
      "num. song samples: 10\n",
      "--------------------------------------------------\n",
      "m_voices\n",
      "--------------------------------------------------\n",
      "hd-8-ly-12-bt-4\n",
      "examples_C.txt\n",
      "num. song samples: 10\n",
      "examples_G.txt\n",
      "num. song samples: 10\n",
      "examples_Am.txt\n",
      "num. song samples: 10\n",
      "--------------------------------------------------\n",
      "hd-8-ly-12-bt4-ovrf\n",
      "--------------------------------------------------\n",
      "hd-8-ly-16\n",
      "examples_C.txt\n",
      "num. song samples: 10\n",
      "examples_G.txt\n",
      "num. song samples: 10\n",
      "examples_Am.txt\n",
      "num. song samples: 10\n",
      "--------------------------------------------------\n",
      "t_data\n",
      "--------------------------------------------------\n",
      "hd-8-ly-12-bt-8\n",
      "examples_C.txt\n",
      "num. song samples: 10\n",
      "examples_G.txt\n",
      "num. song samples: 10\n",
      "examples_Am.txt\n",
      "num. song samples: 10\n",
      "--------------------------------------------------\n",
      "hd-8-ly-12-bt-16\n",
      "examples_C.txt\n",
      "num. song samples: 10\n",
      "examples_G.txt\n",
      "num. song samples: 10\n",
      "examples_Am.txt\n",
      "num. song samples: 10\n",
      "--------------------------------------------------\n",
      "hd-8-ly-12-bt-1\n",
      "examples_C.txt\n",
      "num. song samples: 10\n",
      "examples_G.txt\n",
      "num. song samples: 10\n",
      "examples_Am.txt\n",
      "num. song samples: 10\n",
      "--------------------------------------------------\n",
      "hd-8-ly-12-rn-data\n",
      "examples_C.txt\n",
      "num. song samples: 10\n",
      "examples_G.txt\n",
      "num. song samples: 10\n",
      "examples_Am.txt\n",
      "num. song samples: 10\n",
      "--------------------------------------------------\n",
      "hd-12-ly-12-rn-data\n",
      "examples_C.txt\n",
      "num. song samples: 10\n",
      "examples_G.txt\n",
      "num. song samples: 10\n",
      "examples_Am.txt\n",
      "num. song samples: 10\n",
      "--------------------------------------------------\n",
      "hd-8-ly-12\n",
      "examples_C.txt\n",
      "num. song samples: 10\n",
      "examples_G.txt\n",
      "num. song samples: 10\n",
      "examples_Am.txt\n",
      "num. song samples: 10\n",
      "--------------------------------------------------\n",
      "hd-8-ly-12-bt-64\n",
      "examples_C.txt\n",
      "num. song samples: 10\n",
      "examples_G.txt\n",
      "num. song samples: 10\n",
      "examples_Am.txt\n",
      "num. song samples: 10\n",
      "--------------------------------------------------\n",
      "hd_8_ly_6_bch_48\n",
      "--------------------------------------------------\n",
      "hd-8-ly-12-bt-4-rn-data\n",
      "examples_C.txt\n",
      "num. song samples: 10\n",
      "examples_G.txt\n",
      "num. song samples: 10\n",
      "examples_Am.txt\n",
      "num. song samples: 10\n",
      "--------------------------------------------------\n",
      "hd-8-ly-12-bt-4-ctx-256\n",
      "examples_C.txt\n",
      "num. song samples: 10\n",
      "examples_G.txt\n",
      "num. song samples: 10\n",
      "examples_Am.txt\n",
      "num. song samples: 10\n",
      "--------------------------------------------------\n",
      "hd-8-ly-12-bt-4-ctx-1024\n",
      "examples_C.txt\n",
      "num. song samples: 10\n",
      "examples_G.txt\n",
      "num. song samples: 10\n",
      "examples_Am.txt\n",
      "num. song samples: 10\n",
      "--------------------------------------------------\n",
      "single_voice\n",
      "--------------------------------------------------\n",
      "embd_396\n",
      "examples_C.txt\n",
      "num. song samples: 10\n",
      "examples_G.txt\n",
      "num. song samples: 10\n",
      "examples_Am.txt\n",
      "num. song samples: 10\n",
      "--------------------------------------------------\n"
     ]
    }
   ],
   "source": [
    "for experiment_name,experiment_path in experiments.items():\n",
    "    experiment_samples = read_files_in_directory(experiment_path,'examples')\n",
    "    print(experiment_name)\n",
    "    for sample_name in experiment_samples.keys():\n",
    "        experiment_example = experiment_examples[sample_name]\n",
    "        print(sample_name)\n",
    "        sample_songs = get_songs_from_sample(experiment_example)\n",
    "    print('-----'*10)"
   ]
  }
 ],
 "metadata": {
  "kernelspec": {
   "display_name": "Python 3 (ipykernel)",
   "language": "python",
   "name": "python3"
  },
  "language_info": {
   "codemirror_mode": {
    "name": "ipython",
    "version": 3
   },
   "file_extension": ".py",
   "mimetype": "text/x-python",
   "name": "python",
   "nbconvert_exporter": "python",
   "pygments_lexer": "ipython3",
   "version": "3.8.10"
  },
  "orig_nbformat": 4
 },
 "nbformat": 4,
 "nbformat_minor": 2
}
