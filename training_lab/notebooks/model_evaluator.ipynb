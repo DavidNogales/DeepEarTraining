{
 "cells": [
  {
   "cell_type": "code",
   "execution_count": 2,
   "metadata": {},
   "outputs": [
    {
     "name": "stdout",
     "output_type": "stream",
     "text": [
      "Dockerfile  docker-compose.yaml  overrides.json\n",
      "README.md   notebooks\t\t requirements.txt\n"
     ]
    }
   ],
   "source": [
    "!ls"
   ]
  },
  {
   "cell_type": "code",
   "execution_count": 103,
   "metadata": {},
   "outputs": [],
   "source": [
    "import re\n",
    "from music21 import *\n",
    "import os\n",
    "import pandas as pd\n",
    "\n",
    "def get_subfolders_names(path):\n",
    "    return [x[0] for x in os.walk(path)]\n",
    "\n",
    "def get_files_with_prefix(path, prefix):\n",
    "    return [each for each in os.listdir(path) if each.startswith(prefix)]\n",
    "\n",
    "def read_files_in_directory(path, prefix):\n",
    "    files = get_files_with_prefix(path, prefix)\n",
    "    contents = []\n",
    "    for file in files:\n",
    "        with open(path+'/'+file, 'r') as f:\n",
    "            content = f.read()\n",
    "            contents.append(content)\n",
    "    return dict(zip(files,contents))\n",
    "    \n",
    "def get_songs_from_sample(sample):\n",
    "    sample_split = '---------------\\n'\n",
    "    current_songs= sample.split(sample_split)[:-1]\n",
    "    ignore_lines =5\n",
    "    current_song = ''\n",
    "    initial_song = '\\n'.join(current_songs[0].splitlines()[5:7])\n",
    "    remaining_songs = current_songs[1:]\n",
    "    remaining_songs = ['\\n'.join(sample_song.splitlines()[:2]) for sample_song in remaining_songs]\n",
    "    song_samples = [initial_song]+remaining_songs\n",
    "    print('num. song samples:',len(song_samples))\n",
    "    return song_samples\n",
    "def format_model_output(abc_song_model_output):\n",
    "    header_chars = ['M','L','K']\n",
    "    pattern = re.compile(r'([{}])'.format(''.join(header_chars)))\n",
    "    formatted_song = pattern.sub(r' \\1', abc_song_model_output)\n",
    "    #print(formatted_song.split())\n",
    "    header_M,header_L,aux_header_K,song_body= formatted_song.split()\n",
    "    index = aux_header_K.find('|')\n",
    "    header_K = aux_header_K[:index]\n",
    "    header_comment = '%'+aux_header_K[index:]\n",
    "    song_metadata = [header_M,header_L,header_K,header_comment,song_body]\n",
    "    formatted_song = '\\n'.join(song_metadata)\n",
    "    return dict(zip(['M','L','K','chord_prog'],song_metadata)),formatted_song\n",
    "\n",
    "def parse_abc_song(formatted_abc_song):\n",
    "    #print([formatted_abc_song])\n",
    "    return converter.parse(formatted_abc_song, format='abc')\n",
    "\n",
    "def get_song_key_obj(song_metadata):\n",
    "    song_key_metadata = abcFormat.ABCMetadata(song_metadata['K'])\n",
    "    song_key_metadata.preParse()\n",
    "    return song_key_metadata.getKeySignatureObject()\n",
    "\n",
    "def get_song_notes(formatted_abc_string):\n",
    "    parsed_abc_song = converter.parse(formatted_abc_string, format='abc')\n",
    "    current_pitches = parsed_abc_song.pitches\n",
    "    return current_pitches\n",
    "    \n",
    "def get_song_key(song_stream):\n",
    "    return song_stream.analyze('key')\n",
    "\n",
    "def metric_notes_in_key_rate(parsed_abc_song,key_song_obj):\n",
    "    song_notes = [pitch.name for pitch in parsed_abc_song.pitches]\n",
    "    key_notes = [key_pitch.name for key_pitch in key_song_obj.pitches]\n",
    "\n",
    "    total_notes = len(song_notes)\n",
    "\n",
    "    notes_in_key = 0\n",
    "    notes_not_in_key = 0\n",
    "    rate = 0\n",
    "    for current_note in song_notes:\n",
    "        if current_note in key_notes:\n",
    "            notes_in_key += 1\n",
    "        else:\n",
    "            notes_not_in_key += 1\n",
    "\n",
    "    if notes_in_key !=0:    \n",
    "        rate = notes_in_key/total_notes \n",
    "    metric_data = {\n",
    "        'notes_in_key_rate':rate,\n",
    "        'total_notes':total_notes,\n",
    "        'notes_in_key':notes_in_key,\n",
    "        'notes_not_in_key':notes_not_in_key\n",
    "    }\n",
    "    return metric_data\n",
    "\n",
    "def get_metrics(formatted_abc_song,song_metadata):\n",
    "    \n",
    "    parsed_song = parse_abc_song(formatted_abc_song)\n",
    "    current_key = get_song_key_obj(song_metadata)\n",
    "    \n",
    "    metric_data = metric_notes_in_key_rate(parsed_song,current_key)\n",
    "    \n",
    "    return metric_data\n"
   ]
  },
  {
   "cell_type": "code",
   "execution_count": 80,
   "metadata": {},
   "outputs": [
    {
     "data": {
      "text/plain": [
       "{'notes_in_key_rate': 1.0,\n",
       " 'total_notes': 12,\n",
       " 'notes_in_key': 12,\n",
       " 'notes_not_in_key': 0}"
      ]
     },
     "execution_count": 80,
     "metadata": {},
     "output_type": "execute_result"
    }
   ],
   "source": [
    "current_song = '''M:4/4L:1/4K:Am|\"Am\"|\"Dm\"|\"E\"|\"E\"|\"Am\"|\"Dm\"|\"E\"|\"Am\"|]\n",
    "e|\"Am\"A/2c/2c/2c/2c/2B/2c/2A/2|\n",
    "'''\n",
    "current_metadata, formatted_current_song = format_model_output(current_song)\n",
    "get_metrics(formatted_current_song,current_metadata)"
   ]
  },
  {
   "cell_type": "code",
   "execution_count": 5,
   "metadata": {},
   "outputs": [
    {
     "data": {
      "text/plain": [
       "49"
      ]
     },
     "execution_count": 5,
     "metadata": {},
     "output_type": "execute_result"
    }
   ],
   "source": [
    "from music21 import *\n",
    "abc_string = \"\"\"\n",
    "X:1\n",
    "T:Example\n",
    "M:4/4\n",
    "L:1/4\n",
    "K:G\n",
    "\"I\"^G/2_A/2B/2A/2G/2F/2|G/2A/2B/2A/2G/2F/2|\"IV\"E3/4F/4G/2E/2|C/2C/2C/2|\"V\"B,2|\"I\"G/2A/4G/2F/2E/2|\"IV\"C/2C/2C/2D/2E/2|\"V\"F/2B,/2D/2C/2B,/2|\"I\"G/2G/2G/2A/2|\"IV\"G/2A/4G/4F/4G/2|\"V\"F/2G/2F/2D/2|\"I\"E2|]\n",
    "\"\"\"\n",
    "abc_score = converter.parse(abc_string, format='abc')\n",
    "len(abc_score.pitches)"
   ]
  },
  {
   "cell_type": "code",
   "execution_count": 6,
   "metadata": {},
   "outputs": [
    {
     "data": {
      "text/plain": [
       "'X:1\\nT:Example\\nM:4/4\\nL:1/4\\nK:G\\n\"I\"^G/2_A/2B/2A/2G/2F/2|G/2A/2B/2A/2G/2F/2|\"IV\"E3/4F/4G/2E/2|C/2C/2C/2|\"V\"B,2|\"I\"G/2A/4G/2F/2E/2|\"IV\"C/2C/2C/2D/2E/2|\"V\"F/2B,/2D/2C/2B,/2|\"I\"G/2G/2G/2A/2|\"IV\"G/2A/4G/4F/4G/2|\"V\"F/2G/2F/2D/2|\"I\"E2|]\\n'"
      ]
     },
     "execution_count": 6,
     "metadata": {},
     "output_type": "execute_result"
    }
   ],
   "source": [
    "abcFormat.ABCFile.extractReferenceNumber(abc_string, 1)"
   ]
  },
  {
   "cell_type": "code",
   "execution_count": 7,
   "metadata": {},
   "outputs": [
    {
     "data": {
      "text/plain": [
       "{'M': '1', 'L': '2', 'K': '3'}"
      ]
     },
     "execution_count": 7,
     "metadata": {},
     "output_type": "execute_result"
    }
   ],
   "source": [
    "dict(zip(['M','L','K'],['1','2','3']))"
   ]
  },
  {
   "cell_type": "code",
   "execution_count": 36,
   "metadata": {},
   "outputs": [
    {
     "name": "stdout",
     "output_type": "stream",
     "text": [
      "['M:4/4', 'L:1/4', 'K:Am|\"Am\"|\"Dm\"|\"E\"|\"E\"|\"Am\"|\"Dm\"|\"E\"|\"Am\"|]', 'E|\"Am\"A3/2B/2A|\"Am\"e2e3/2d/2|\"Dm\"B3/2c/2A3/2B/2|\"E\"G/2E/2E3/2F/2G3/2B/2|\"E\"e3/2f/2e3/2d/2|\"Am\"B3/2c/2A3/2B/2|\"Dm\"c3/2d/2e3/2f/2|\"E\"e3/2d/2B3/2A/2|\"Am\"B3/2c/2A3/2B/2|\"Dm\"c/2d3/2e/2f3/2e/2|\"E\"e3/2d/2B3/2d/2|\"Am\"B/2A3/2c/2A3/2B/2|\"Dm\"c3/2d/2e3/2f/2|\"E\"e3/2d/2B3/2d/2|\"Am\"B3/2A/2A3/2B/2|\"Dm\"c3/2A/2B3/2c/2|\"E\"e3/2B/2e3/2d/2|\"Am\"B3/2c/2A3/2B/2|\"D\"c3/2d/2e3/2f/2|\"E\"e3/2d/2B3/2d/2|\"Am\"B/2A3/2A/2B3/2c/2|\"D\"d3/2A/2B3/2c/2|\"E\"B3/2A/2G3/2B/2|\"Am\"A3|]']\n",
      "M:4/4\n",
      "L:1/4\n",
      "K:Am\n",
      "%|\"Am\"|\"Dm\"|\"E\"|\"E\"|\"Am\"|\"Dm\"|\"E\"|\"Am\"|]\n",
      "E|\"Am\"A3/2B/2A|\"Am\"e2e3/2d/2|\"Dm\"B3/2c/2A3/2B/2|\"E\"G/2E/2E3/2F/2G3/2B/2|\"E\"e3/2f/2e3/2d/2|\"Am\"B3/2c/2A3/2B/2|\"Dm\"c3/2d/2e3/2f/2|\"E\"e3/2d/2B3/2A/2|\"Am\"B3/2c/2A3/2B/2|\"Dm\"c/2d3/2e/2f3/2e/2|\"E\"e3/2d/2B3/2d/2|\"Am\"B/2A3/2c/2A3/2B/2|\"Dm\"c3/2d/2e3/2f/2|\"E\"e3/2d/2B3/2d/2|\"Am\"B3/2A/2A3/2B/2|\"Dm\"c3/2A/2B3/2c/2|\"E\"e3/2B/2e3/2d/2|\"Am\"B3/2c/2A3/2B/2|\"D\"c3/2d/2e3/2f/2|\"E\"e3/2d/2B3/2d/2|\"Am\"B/2A3/2A/2B3/2c/2|\"D\"d3/2A/2B3/2c/2|\"E\"B3/2A/2G3/2B/2|\"Am\"A3|]\n"
     ]
    },
    {
     "data": {
      "text/plain": [
       "['A', 'B', 'C', 'D', 'E', 'F', 'G', 'A']"
      ]
     },
     "execution_count": 36,
     "metadata": {},
     "output_type": "execute_result"
    }
   ],
   "source": [
    "current_song_metadata, current_song_formatted = format_model_output(current_song)\n",
    "abch = abcFormat.ABCHandler()\n",
    "abch.tokenize(current_song_formatted)\n",
    "print(current_song_formatted)\n",
    "key_obj = get_song_key_obj(current_song_metadata)\n",
    "[key_pitch.name for key_pitch in key_obj.pitches]"
   ]
  },
  {
   "cell_type": "code",
   "execution_count": 9,
   "metadata": {},
   "outputs": [
    {
     "name": "stdout",
     "output_type": "stream",
     "text": [
      "['M:4/4', 'L:1/4', 'K:Am|\"Am\"|\"Dm\"|\"E\"|\"E\"|\"Am\"|\"Dm\"|\"E\"|\"Am\"|]', 'E|\"Am\"A3/2B/2A|\"Am\"e2e3/2d/2|\"Dm\"B3/2c/2A3/2B/2|\"E\"G/2E/2E3/2F/2G3/2B/2|\"E\"e3/2f/2e3/2d/2|\"Am\"B3/2c/2A3/2B/2|\"Dm\"c3/2d/2e3/2f/2|\"E\"e3/2d/2B3/2A/2|\"Am\"B3/2c/2A3/2B/2|\"Dm\"c/2d3/2e/2f3/2e/2|\"E\"e3/2d/2B3/2d/2|\"Am\"B/2A3/2c/2A3/2B/2|\"Dm\"c3/2d/2e3/2f/2|\"E\"e3/2d/2B3/2d/2|\"Am\"B3/2A/2A3/2B/2|\"Dm\"c3/2A/2B3/2c/2|\"E\"e3/2B/2e3/2d/2|\"Am\"B3/2c/2A3/2B/2|\"D\"c3/2d/2e3/2f/2|\"E\"e3/2d/2B3/2d/2|\"Am\"B/2A3/2A/2B3/2c/2|\"D\"d3/2A/2B3/2c/2|\"E\"B3/2A/2G3/2B/2|\"Am\"A3|]']\n",
      "-------------------------\n",
      "Key A minor\n",
      "In Key:  160\n",
      "Not in Key: 10\n",
      "-------------------------\n"
     ]
    },
    {
     "data": {
      "text/plain": [
       "<music21.graph.plot.HistogramPitchClass for <music21.stream.Stream 0x7f287a948610>>"
      ]
     },
     "execution_count": 9,
     "metadata": {},
     "output_type": "execute_result"
    },
    {
     "data": {
      "image/png": "[encoded data removed]",
      "text/plain": [
       "<Figure size 600x600 with 1 Axes>"
      ]
     },
     "metadata": {},
     "output_type": "display_data"
    }
   ],
   "source": [
    "other_abc_string = \"\"\"\n",
    "X:1\n",
    "T:Example\n",
    "M:4/4\n",
    "L:1/4\n",
    "K:G\n",
    "\"G\"G/2A/2B/2A/2G/2F/2|G/2A/2B/2A/2G/2F/2|\"IV\"E3/4F/4G/2E/2|C/2C/2C/2|\"V\"B,2|\"I\"G/2A/4G/2F/2E/2|\"IV\"C/2C/2C/2D/2E/2|\"V\"F/2B,/2D/2C/2B,/2|\"I\"G/2G/2G/2A/2|\"IV\"G/2A/4G/4F/4G/2|\"V\"F/2G/2F/2D/2|\"I\"E2|]\n",
    "\"\"\"\n",
    "current_song_metadata, current_song_formatted = format_model_output(current_song)\n",
    "examples_stream = stream.Stream()\n",
    "abc_scores = [current_song_formatted]\n",
    "streams = []\n",
    "for abc_song in abc_scores:\n",
    "    print('-----'*5)\n",
    "    parsed_abc_song = converter.parse(abc_song, format='abc')\n",
    "    examples_stream.insert(examples_stream.highestTime, parsed_abc_song)\n",
    "    current_key = parsed_abc_song.analyze('key')\n",
    "    current_key_pitches = [key_pitch.name for key_pitch in current_key.pitches]\n",
    "    current_pitches = parsed_abc_song.pitches\n",
    "    count_pitches_in_key = 0\n",
    "    count_pitches_not_in_key = 0\n",
    "    for pitch in current_pitches:\n",
    "        if pitch.name in current_key_pitches:\n",
    "            count_pitches_in_key += 1\n",
    "        else:\n",
    "            count_pitches_not_in_key += 1\n",
    "    print('Key',current_key.name)\n",
    "    print('In Key: ', count_pitches_in_key)\n",
    "    print('Not in Key:', count_pitches_not_in_key)\n",
    "    print('-----'*5)\n",
    "examples_stream.plot('histogram', 'pitchClass')"
   ]
  },
  {
   "cell_type": "code",
   "execution_count": 10,
   "metadata": {},
   "outputs": [
    {
     "data": {
      "text/plain": [
       "<music21.graph.plot.HistogramPitchSpace for <music21.stream.Stream 0x7f287a948610>>"
      ]
     },
     "execution_count": 10,
     "metadata": {},
     "output_type": "execute_result"
    },
    {
     "data": {
      "image/png": "[encoded data removed]",
      "text/plain": [
       "<Figure size 1000x600 with 1 Axes>"
      ]
     },
     "metadata": {},
     "output_type": "display_data"
    }
   ],
   "source": [
    "examples_stream.plot('histogram', 'pitch')"
   ]
  },
  {
   "cell_type": "code",
   "execution_count": 11,
   "metadata": {},
   "outputs": [],
   "source": [
    "something =abcFormat.ABCMetadata(current_song).preParse()\n"
   ]
  },
  {
   "cell_type": "code",
   "execution_count": 12,
   "metadata": {},
   "outputs": [
    {
     "data": {
      "text/plain": [
       "'hello... (world)!'"
      ]
     },
     "execution_count": 12,
     "metadata": {},
     "output_type": "execute_result"
    }
   ],
   "source": [
    "A = ['M', 'K', 'L', '|']\n",
    "B = \"hello... (world)!\"\n",
    "pattern = re.compile(r'([{}])'.format(''.join(A)))\n",
    "new_string = pattern.sub(r' \\1', B)\n",
    "new_string"
   ]
  },
  {
   "cell_type": "code",
   "execution_count": 59,
   "metadata": {},
   "outputs": [
    {
     "name": "stdout",
     "output_type": "stream",
     "text": [
      "num. song samples: 10\n",
      "['M:4/4', 'L:1/4', 'K:C|\"I\"|\"IV\"|\"V\"|\"V\"|\"I\"|\"IV\"|\"V\"|\"I\"|]', 'C/2A,/2|\"I\"A,/2C/2A,/2A,/2|A,/2C/2E/2C/2E/2|\"I\"A,/2A,/2C/2A,/2A,/2|\"IV\"A,/2A,/2A,/2D/2F/2C/2|\"V\"A2CB,|\"V\"A,3/2C/2A,A,|\"I\"A,/2C/2A,/2C/2A,/2C/2E,/2C/2|\"IV\"F,/2D/2F/2D/2F/2C/2F/2C/2|\"V\"A,/2A,/2C/2D/2C/2B,/2C/2F,|\"V\"A,/2C/2C/2CA,C|\"I\"A,/2C/2A,/2A,/2A,/2C/2A,/2C/2|A,/2C/2A,/2C/2E/2C/2E/2C/2E/2C/2|\"IV\"A']\n",
      "M:4/4\n",
      "L:1/4\n",
      "K:C\n",
      "%|\"I\"|\"IV\"|\"V\"|\"V\"|\"I\"|\"IV\"|\"V\"|\"I\"|]\n",
      "C/2A,/2|\"I\"A,/2C/2A,/2A,/2|A,/2C/2E/2C/2E/2|\"I\"A,/2A,/2C/2A,/2A,/2|\"IV\"A,/2A,/2A,/2D/2F/2C/2|\"V\"A2CB,|\"V\"A,3/2C/2A,A,|\"I\"A,/2C/2A,/2C/2A,/2C/2E,/2C/2|\"IV\"F,/2D/2F/2D/2F/2C/2F/2C/2|\"V\"A,/2A,/2C/2D/2C/2B,/2C/2F,|\"V\"A,/2C/2C/2CA,C|\"I\"A,/2C/2A,/2A,/2A,/2C/2A,/2C/2|A,/2C/2A,/2C/2E/2C/2E/2C/2E/2C/2|\"IV\"A\n",
      "['M:4/4', 'L:1/4', 'K:C|\"I\"|\"IV\"|\"V\"|\"V\"|\"I\"|\"IV\"|\"V\"|\"I\"|]', 'a/2b/2|\"I\"c\\'3/4b/4c\\'3/4b/4|\"IV\"a/2g3/2f/2|\"V\"e/2f3/4g/4|\"V\"c3/4d/4c3/4d/4|\"I\"e3/2g/4|\"IV\"a3/4g/4a3/4b/4|c\\'/2c\\'3/4b/4c\\'3/4']\n",
      "M:4/4\n",
      "L:1/4\n",
      "K:C\n",
      "%|\"I\"|\"IV\"|\"V\"|\"V\"|\"I\"|\"IV\"|\"V\"|\"I\"|]\n",
      "a/2b/2|\"I\"c'3/4b/4c'3/4b/4|\"IV\"a/2g3/2f/2|\"V\"e/2f3/4g/4|\"V\"c3/4d/4c3/4d/4|\"I\"e3/2g/4|\"IV\"a3/4g/4a3/4b/4|c'/2c'3/4b/4c'3/4\n",
      "['M:4/4', 'L:1/4', 'K:C|\"I\"|\"IV\"|\"V\"|\"V\"|\"I\"|\"IV\"|\"V\"|\"I\"|]', 'C|\"I\"G2cB|\"IV\"dcBA/2G3/2|\"V\"DEF2|\"V\"GFEF|\"I\"G3|\"I\"g3/2g/2g3/2|\"IV\"aded/2e3/2e/2|\"V\"dcBA|\"I\"G3|]']\n",
      "M:4/4\n",
      "L:1/4\n",
      "K:C\n",
      "%|\"I\"|\"IV\"|\"V\"|\"V\"|\"I\"|\"IV\"|\"V\"|\"I\"|]\n",
      "C|\"I\"G2cB|\"IV\"dcBA/2G3/2|\"V\"DEF2|\"V\"GFEF|\"I\"G3|\"I\"g3/2g/2g3/2|\"IV\"aded/2e3/2e/2|\"V\"dcBA|\"I\"G3|]\n",
      "['M:4/4', 'L:1/4', 'K:C|\"I\"|\"IV\"|\"V\"|\"V\"|\"I\"|\"IV\"|\"V\"|\"I\"|]', '\"I\"f2f|\"I\"d3/4c/4d|\"IV\"e3/4d/4e/4d/2|\"V\"c3/4d/4e/2d/2|\"V\"c3/4d/4c/2e/2|\"I\"f2|\"I\"f3/2d/2|\"IV\"e3/4d/4e/2d/2|\"V\"c3/4d/4e/2d/2|\"I\"f3/2|\"IV\"e3/2|\"V\"c3/4d/4c/2e/2|\"I\"f3/2|]']\n",
      "M:4/4\n",
      "L:1/4\n",
      "K:C\n",
      "%|\"I\"|\"IV\"|\"V\"|\"V\"|\"I\"|\"IV\"|\"V\"|\"I\"|]\n",
      "\"I\"f2f|\"I\"d3/4c/4d|\"IV\"e3/4d/4e/4d/2|\"V\"c3/4d/4e/2d/2|\"V\"c3/4d/4c/2e/2|\"I\"f2|\"I\"f3/2d/2|\"IV\"e3/4d/4e/2d/2|\"V\"c3/4d/4e/2d/2|\"I\"f3/2|\"IV\"e3/2|\"V\"c3/4d/4c/2e/2|\"I\"f3/2|]\n",
      "['M:4/4', 'L:1/4', 'K:C|\"I\"|\"IV\"|\"V\"|\"V\"|\"I\"|\"IV\"|\"V\"|\"I\"|]', 'G/2A/2|\"I\"B/2d/2d/2c/2|B/2G/2g/2d/2c/2|\"I\"d/4c/4d/4c/4B/2d/2|\"IV\"e/2g/2e/2d/2|\"V\"c/4c/4c/4c/4c|\"V\"c/4d/4e/4d/4c/2G/2|\"I\"B/2d/2d/2c/2|\"I\"B/2d/4d/4c/2B/2d/2|\"IV\"e/2g/4e/4d/4c/4B/2|\"V\"c/2c/2c/2|\"I\"B/2d/4d/4e/4d/4c/2B/2|\"IV\"e/2e/4g/4e/4g/4e/2e/2|\"V\"g/2e/2e/2d/2|\"I\"g/2g/4d/4e/4d/4c/2B/2|\"I\"G/2d/2d/2d/2|\"I\"B/2d/4d/4e/4d/4c/4B/2d/2|\"IV\"e/4c/4e/4a/4g/4a/4g/2a/4|\"V\"b/2e/2e/2f/4e/4d/4|\"I\"g2|]']\n",
      "M:4/4\n",
      "L:1/4\n",
      "K:C\n",
      "%|\"I\"|\"IV\"|\"V\"|\"V\"|\"I\"|\"IV\"|\"V\"|\"I\"|]\n",
      "G/2A/2|\"I\"B/2d/2d/2c/2|B/2G/2g/2d/2c/2|\"I\"d/4c/4d/4c/4B/2d/2|\"IV\"e/2g/2e/2d/2|\"V\"c/4c/4c/4c/4c|\"V\"c/4d/4e/4d/4c/2G/2|\"I\"B/2d/2d/2c/2|\"I\"B/2d/4d/4c/2B/2d/2|\"IV\"e/2g/4e/4d/4c/4B/2|\"V\"c/2c/2c/2|\"I\"B/2d/4d/4e/4d/4c/2B/2|\"IV\"e/2e/4g/4e/4g/4e/2e/2|\"V\"g/2e/2e/2d/2|\"I\"g/2g/4d/4e/4d/4c/2B/2|\"I\"G/2d/2d/2d/2|\"I\"B/2d/4d/4e/4d/4c/4B/2d/2|\"IV\"e/4c/4e/4a/4g/4a/4g/2a/4|\"V\"b/2e/2e/2f/4e/4d/4|\"I\"g2|]\n",
      "['M:4/4', 'L:1/4', 'K:C|\"I\"|\"IV\"|\"V\"|\"V\"|\"I\"|\"IV\"|\"V\"|\"I\"|]', 'e/2f/2|\"I\"gec|\"IV\"cAc2|\"V\"ffef/2g/2|\"V\"aagf|\"V\"edcB|\"I\"egec|\"IV\"cAc2|\"V\"BGB3/2e/2|\"V\"gfef/2g/2|\"I\"gece|\"IV\"cAc2|\"V\"BGB3/2e/2|\"I\"fec2|]']\n",
      "M:4/4\n",
      "L:1/4\n",
      "K:C\n",
      "%|\"I\"|\"IV\"|\"V\"|\"V\"|\"I\"|\"IV\"|\"V\"|\"I\"|]\n",
      "e/2f/2|\"I\"gec|\"IV\"cAc2|\"V\"ffef/2g/2|\"V\"aagf|\"V\"edcB|\"I\"egec|\"IV\"cAc2|\"V\"BGB3/2e/2|\"V\"gfef/2g/2|\"I\"gece|\"IV\"cAc2|\"V\"BGB3/2e/2|\"I\"fec2|]\n",
      "['M:4/4', 'L:1/4', 'K:C|\"I\"|\"IV\"|\"V\"|\"V\"|\"I\"|\"IV\"|\"V\"|\"I\"|]', 'c/2d/2|\"I\"e/2a/2e/2c/2A/2c3/4e/4|e/2a/2a/2g/2f/2e/2|\"IV\"f/2e/2d/2c3/4d/4|\"V\"c/2d/2c/2A/2G3/4G/4|\"I\"e/2a/2e/2c/2e/2c/2|e/2a/2g/2f/2e/2e/2|\"I\"a/2g/2a3/4a/4g/4a/2c\\'/2|e/2a/2a/2g/2f/2e/2|\"IV\"c/2d/2c/2A3/4G/4A/4|\"V\"G/2e/2E/2g3/4a/4|\"I\"g/2a/4g/4a/2\"IV\"c/2e/2e/2|\"V\"c/2d/2c/2A3/4G/4G/4|E/2e/2B/2e3/4a/4|\"I\"g/2e/2e/2c/2e/2|\"I\"a/2g/2a3/4a/4g/4a/2g/2|a3/4a/4b/4c\\'/4c\\'/4|\"IV\"d\\'/2c\\'/2b/2c\\'/2b/2|\"I\"a/2g/2a/2c\\'/2d\\'/2c\\'/2|\"V\"b/2g/2e/2g/2f/2e/2|\"I\"a/2g/2a/2c\\'/2c\\'/2|\"IV\"d\\'/2c\\'/2b/2\"V\"a/2g/2a/2|\"I\"a/2g/2a/2c\\'/2c\\'/2']\n",
      "M:4/4\n",
      "L:1/4\n",
      "K:C\n",
      "%|\"I\"|\"IV\"|\"V\"|\"V\"|\"I\"|\"IV\"|\"V\"|\"I\"|]\n",
      "c/2d/2|\"I\"e/2a/2e/2c/2A/2c3/4e/4|e/2a/2a/2g/2f/2e/2|\"IV\"f/2e/2d/2c3/4d/4|\"V\"c/2d/2c/2A/2G3/4G/4|\"I\"e/2a/2e/2c/2e/2c/2|e/2a/2g/2f/2e/2e/2|\"I\"a/2g/2a3/4a/4g/4a/2c'/2|e/2a/2a/2g/2f/2e/2|\"IV\"c/2d/2c/2A3/4G/4A/4|\"V\"G/2e/2E/2g3/4a/4|\"I\"g/2a/4g/4a/2\"IV\"c/2e/2e/2|\"V\"c/2d/2c/2A3/4G/4G/4|E/2e/2B/2e3/4a/4|\"I\"g/2e/2e/2c/2e/2|\"I\"a/2g/2a3/4a/4g/4a/2g/2|a3/4a/4b/4c'/4c'/4|\"IV\"d'/2c'/2b/2c'/2b/2|\"I\"a/2g/2a/2c'/2d'/2c'/2|\"V\"b/2g/2e/2g/2f/2e/2|\"I\"a/2g/2a/2c'/2c'/2|\"IV\"d'/2c'/2b/2\"V\"a/2g/2a/2|\"I\"a/2g/2a/2c'/2c'/2\n",
      "['M:4/4', 'L:1/4', 'K:C|\"I\"|\"IV\"|\"V\"|\"V\"|\"I\"|\"IV\"|\"V\"|\"I\"|]', 'f/2e/2|\"I\"d/4c/2f/2f/2f/2|\"IV\"g/2f/2f/2f/2f/2|\"V\"g/2f/2e/2d/2c/2|\"V\"B/2c/2c/2d/2c/2|\"I\"B/4A/4G/4F|\"I\"F/4G/4A/4B/4c/2d/2|\"IV\"B/2B/2B/4B/4B/4|\"V\"c/2f/4e/4d/2c/2|\"I\"B,/2D/2F/2B/2|\"I\"F/4G/4A/4B/4c/4d/4c/4d/4|\"I\"f/4e/4e/4d/4c|\"IV\"f/2f/2f/2f/4f/4|\"V\"g/2f/2e/4d/4c/4B/4|\"I\"A/2c/2|]']\n",
      "M:4/4\n",
      "L:1/4\n",
      "K:C\n",
      "%|\"I\"|\"IV\"|\"V\"|\"V\"|\"I\"|\"IV\"|\"V\"|\"I\"|]\n",
      "f/2e/2|\"I\"d/4c/2f/2f/2f/2|\"IV\"g/2f/2f/2f/2f/2|\"V\"g/2f/2e/2d/2c/2|\"V\"B/2c/2c/2d/2c/2|\"I\"B/4A/4G/4F|\"I\"F/4G/4A/4B/4c/2d/2|\"IV\"B/2B/2B/4B/4B/4|\"V\"c/2f/4e/4d/2c/2|\"I\"B,/2D/2F/2B/2|\"I\"F/4G/4A/4B/4c/4d/4c/4d/4|\"I\"f/4e/4e/4d/4c|\"IV\"f/2f/2f/2f/4f/4|\"V\"g/2f/2e/4d/4c/4B/4|\"I\"A/2c/2|]\n",
      "['M:4/4', 'L:1/4', 'K:C|\"I\"|\"IV\"|\"V\"|\"V\"|\"I\"|\"IV\"|\"V\"|\"I\"|]', 'G/2A/2|\"I\"G3/4A/4G/2G/2|G3/4A/4G/2|\"I\"c3/2d/2|\"IV\"e3/4f/4e/2|\"V\"d3/4d/4c/2d/2|\"V\"d3/4d/4c/2A/2|\"I\"G3/2|\"IV\"c/2c/4c/4B/2G/2|G3/4A/4G/4G/2|\"V\"A3/2A/4G/4B/2|\"I\"c/2B/2G/2c/2|\"IV\"c/2c/2c/2e/2|\"V\"d3/4d/4c/2B/2|\"I\"c/2c/2e/2|]']\n",
      "M:4/4\n",
      "L:1/4\n",
      "K:C\n",
      "%|\"I\"|\"IV\"|\"V\"|\"V\"|\"I\"|\"IV\"|\"V\"|\"I\"|]\n",
      "G/2A/2|\"I\"G3/4A/4G/2G/2|G3/4A/4G/2|\"I\"c3/2d/2|\"IV\"e3/4f/4e/2|\"V\"d3/4d/4c/2d/2|\"V\"d3/4d/4c/2A/2|\"I\"G3/2|\"IV\"c/2c/4c/4B/2G/2|G3/4A/4G/4G/2|\"V\"A3/2A/4G/4B/2|\"I\"c/2B/2G/2c/2|\"IV\"c/2c/2c/2e/2|\"V\"d3/4d/4c/2B/2|\"I\"c/2c/2e/2|]\n",
      "['M:4/4', 'L:1/4', 'K:C|\"I\"|\"IV\"|\"V\"|\"V\"|\"I\"|\"IV\"|\"V\"|\"I\"|]', '\"I\"G/2A/2c/2c3/4c/4|\"IV\"f/2e/2d/2c3/4c/4|\"V\"B/2A/2G/2F/4G/4|\"V\"B/2G/2G/2F/2G/4|c/2c/2c3/4c/4|\"I\"d/2f/2c3/4c/4|\"IV\"f/2e/2d/2c3/4c/4|\"V\"B/2G/2F/2G/2|\"I\"C3/2|]']\n",
      "M:4/4\n",
      "L:1/4\n",
      "K:C\n",
      "%|\"I\"|\"IV\"|\"V\"|\"V\"|\"I\"|\"IV\"|\"V\"|\"I\"|]\n",
      "\"I\"G/2A/2c/2c3/4c/4|\"IV\"f/2e/2d/2c3/4c/4|\"V\"B/2A/2G/2F/4G/4|\"V\"B/2G/2G/2F/2G/4|c/2c/2c3/4c/4|\"I\"d/2f/2c3/4c/4|\"IV\"f/2e/2d/2c3/4c/4|\"V\"B/2G/2F/2G/2|\"I\"C3/2|]\n",
      "\n"
     ]
    }
   ],
   "source": [
    "samples = get_songs_from_sample(example)\n",
    "for sample in samples:\n",
    "    metadata, formatted_sample = format_model_output(sample)\n",
    "    print(formatted_sample)\n",
    "print('')"
   ]
  },
  {
   "cell_type": "code",
   "execution_count": 95,
   "metadata": {},
   "outputs": [
    {
     "name": "stdout",
     "output_type": "stream",
     "text": [
      "{'M': 'M:4/4', 'L': 'L:1/4', 'K': 'K:Bm', 'chord_prog': '%|\"i\"|\"i\"|\"VII\"|\"VII\"|\"i\"|\"i\"|\"V\"|\"i\"|\"i\"|\"i\"|\"VII\"|\"VII\"|\"i\"\"VII\"|\"i\"\"V\"|\"iv\"\"V\"|\"i\"|]'}\n",
      "M:4/4\n",
      "L:1/4\n",
      "K:Bm\n",
      "%|\"i\"|\"i\"|\"VII\"|\"VII\"|\"i\"|\"i\"|\"V\"|\"i\"|\"i\"|\"i\"|\"VII\"|\"VII\"|\"i\"\"VII\"|\"i\"\"V\"|\"iv\"\"V\"|\"i\"|]\n",
      "F|\"i\"BBB,B,/2C/2|\"i\"D/2C/2D/2E/2F/2E/2F/2^G/2|\"VII\"AAA,A,/2B,/2|\"VII\"C/2E/2A/2F/2E/2C/2B,/2A,/2|\"i\"BBB,B,/2C/2|\"i\"D/2C/2D/2E/2F/2E/2F/2^G/2|A/2G/2F/2E/2\"V\"F/2E/2D/2C/2|\"i\"B,2B,|F|\"i\"FBB3/2A/2|\"i\"F/2A/2B/2c/2d/2c/2B/2A/2|\"VII\"EAA3/2F/2|\"VII\"E/2F/2A/2B/2c/2B/2A/2c/2|\"i\"BF\"VII\"dF|\"i\"eF\"V\"f3/2e/2|\"iv\"d/2c/2B/2A/2\"V\"F/2d/2c/2d/2|\"i\"B2B|]\n"
     ]
    }
   ],
   "source": [
    "def get_songs_from_dataset(tuneBook):\n",
    "    songs_in_tuneBook=tuneBook.split('\\n\\n')[:-1]\n",
    "    return songs_in_tuneBook\n",
    "\n",
    "def get_song_metadata(formatted_song):\n",
    "    header_M,header_L,header_K,aux_header_K,song_body= formatted_song.split('\\n')\n",
    "    header_comment = '%'+aux_header_K\n",
    "    song_metadata = [header_M,header_L,header_K,header_comment,song_body]\n",
    "    formatted_song = '\\n'.join(song_metadata)\n",
    "    return dict(zip(['M','L','K','chord_prog'],song_metadata)),formatted_song\n",
    "my_tuneBook = '''M:4/4\n",
    "L:1/4\n",
    "K:Bm\n",
    "|\"i\"|\"i\"|\"VII\"|\"VII\"|\"i\"|\"i\"|\"V\"|\"i\"|\"i\"|\"i\"|\"VII\"|\"VII\"|\"i\"\"VII\"|\"i\"\"V\"|\"iv\"\"V\"|\"i\"|]\n",
    "F|\"i\"BBB,B,/2C/2|\"i\"D/2C/2D/2E/2F/2E/2F/2^G/2|\"VII\"AAA,A,/2B,/2|\"VII\"C/2E/2A/2F/2E/2C/2B,/2A,/2|\"i\"BBB,B,/2C/2|\"i\"D/2C/2D/2E/2F/2E/2F/2^G/2|A/2G/2F/2E/2\"V\"F/2E/2D/2C/2|\"i\"B,2B,|F|\"i\"FBB3/2A/2|\"i\"F/2A/2B/2c/2d/2c/2B/2A/2|\"VII\"EAA3/2F/2|\"VII\"E/2F/2A/2B/2c/2B/2A/2c/2|\"i\"BF\"VII\"dF|\"i\"eF\"V\"f3/2e/2|\"iv\"d/2c/2B/2A/2\"V\"F/2d/2c/2d/2|\"i\"B2B|]\n",
    "\n",
    "M:4/4\n",
    "L:1/4\n",
    "K:A\n",
    "|\"I\"|\"ii\"\"V\"|\"I\"|\"V\"\"I\"|\"I\"|\"ii\"|\"V\"|\"I\"|\"I\"|\"ii\"|\"V\"|\"I\"|\"IV\"\"V\"|\"I\"|\"V\"|\"I\"|\"II\"|\"V\"|\"I\"|\"ii\"|\"I\"\"V\"|\"I\"|]\n",
    "E|\"I\"AECE|\"ii\"FD\"V\"B,D|\"I\"CEA3/2B/2|\"V\"c/2d/2c/2B/2\"I\"AE|\"I\"AECE|\"ii\"FDB,D|\"V\"C3/2B,/2A,G,|\"I\"A,3C/2D/2|\"I\"E3/2D/2CD|EAcE|\"ii\"FAdc|\"V\"B/2c/2B/2A/2GC/2D/2|\"I\"E3/2D/2CD|EAcE|\"IV\"Fd\"V\"c/2B/2A/2G/2|\"I\"A3G/2A/2|\"V\"B3/2G/2EE|\"I\"c3/2A/2EE|\"II\"^dBcd|\"V\"edcB|\"I\"AECE|\"ii\"FDB,D|\"I\"CE\"V\"A3/2B/2|\"I\"A3|]\n",
    "\n",
    "'''\n",
    "songs_in_tunebook = get_songs_from_dataset(my_tuneBook)\n",
    "\n",
    "metadata_in_tunebook, formatted_song_tunebook = get_song_metadata(songs_in_tunebook[0])\n",
    "print(metadata_in_tunebook)\n",
    "print(formatted_song_tunebook)"
   ]
  },
  {
   "cell_type": "code",
   "execution_count": 109,
   "metadata": {},
   "outputs": [
    {
     "name": "stdout",
     "output_type": "stream",
     "text": [
      "{}\n",
      "{'hi': 5}\n"
     ]
    },
    {
     "data": {
      "text/html": [
       "<div>\n",
       "<style scoped>\n",
       "    .dataframe tbody tr th:only-of-type {\n",
       "        vertical-align: middle;\n",
       "    }\n",
       "\n",
       "    .dataframe tbody tr th {\n",
       "        vertical-align: top;\n",
       "    }\n",
       "\n",
       "    .dataframe thead th {\n",
       "        text-align: right;\n",
       "    }\n",
       "</style>\n",
       "<table border=\"1\" class=\"dataframe\">\n",
       "  <thead>\n",
       "    <tr style=\"text-align: right;\">\n",
       "      <th></th>\n",
       "      <th>hi</th>\n",
       "      <th>yo</th>\n",
       "    </tr>\n",
       "  </thead>\n",
       "  <tbody>\n",
       "    <tr>\n",
       "      <th>0</th>\n",
       "      <td>5</td>\n",
       "      <td>Yooo!</td>\n",
       "    </tr>\n",
       "  </tbody>\n",
       "</table>\n",
       "</div>"
      ],
      "text/plain": [
       "   hi     yo\n",
       "0   5  Yooo!"
      ]
     },
     "execution_count": 109,
     "metadata": {},
     "output_type": "execute_result"
    }
   ],
   "source": [
    "something ={}\n",
    "print(something)\n",
    "something['hi'] = 5\n",
    "print(something)\n",
    "something['yo'] ='Yooo!'\n",
    "pd.DataFrame([something])"
   ]
  },
  {
   "cell_type": "code",
   "execution_count": 110,
   "metadata": {},
   "outputs": [
    {
     "name": "stdout",
     "output_type": "stream",
     "text": [
      "{}\n",
      "{'hi': 5}\n"
     ]
    },
    {
     "data": {
      "text/html": [
       "<div>\n",
       "<style scoped>\n",
       "    .dataframe tbody tr th:only-of-type {\n",
       "        vertical-align: middle;\n",
       "    }\n",
       "\n",
       "    .dataframe tbody tr th {\n",
       "        vertical-align: top;\n",
       "    }\n",
       "\n",
       "    .dataframe thead th {\n",
       "        text-align: right;\n",
       "    }\n",
       "</style>\n",
       "<table border=\"1\" class=\"dataframe\">\n",
       "  <thead>\n",
       "    <tr style=\"text-align: right;\">\n",
       "      <th></th>\n",
       "      <th>hi</th>\n",
       "      <th>yo</th>\n",
       "    </tr>\n",
       "  </thead>\n",
       "  <tbody>\n",
       "    <tr>\n",
       "      <th>0</th>\n",
       "      <td>5</td>\n",
       "      <td>Yooo!</td>\n",
       "    </tr>\n",
       "    <tr>\n",
       "      <th>0</th>\n",
       "      <td>5</td>\n",
       "      <td>Yooo!</td>\n",
       "    </tr>\n",
       "    <tr>\n",
       "      <th>0</th>\n",
       "      <td>5</td>\n",
       "      <td>Yooo!</td>\n",
       "    </tr>\n",
       "    <tr>\n",
       "      <th>0</th>\n",
       "      <td>5</td>\n",
       "      <td>Yooo!</td>\n",
       "    </tr>\n",
       "    <tr>\n",
       "      <th>0</th>\n",
       "      <td>5</td>\n",
       "      <td>Yooo!</td>\n",
       "    </tr>\n",
       "  </tbody>\n",
       "</table>\n",
       "</div>"
      ],
      "text/plain": [
       "   hi     yo\n",
       "0   5  Yooo!\n",
       "0   5  Yooo!\n",
       "0   5  Yooo!\n",
       "0   5  Yooo!\n",
       "0   5  Yooo!"
      ]
     },
     "execution_count": 110,
     "metadata": {},
     "output_type": "execute_result"
    }
   ],
   "source": [
    "something ={}\n",
    "print(something)\n",
    "something['hi'] = 5\n",
    "print(something)\n",
    "something['yo'] ='Yooo!'\n",
    "pd.DataFrame.from_dict(something,orient='index').T\n",
    "\n",
    "df = pd.DataFrame()\n",
    "\n",
    "for row in [1,2,3,4,5]:\n",
    "    row_to_append = pd.DataFrame([something])\n",
    "    df = pd.concat([df, row_to_append])\n",
    "\n",
    "df"
   ]
  },
  {
   "cell_type": "code",
   "execution_count": 111,
   "metadata": {},
   "outputs": [],
   "source": [
    "def analyse_abc_songs(experiments,experiments_prefix='examples',is_experiment=True):\n",
    "    experiment_errors = {}\n",
    "    total_errors_count = 0\n",
    "    metrics_df = pd.DataFrame()\n",
    "    experiment_name_and_location = experiments.items()\n",
    "    for experiment_name,experiment_path in experiment_name_and_location:\n",
    "        experiment_samples = read_files_in_directory(experiment_path,experiments_prefix)\n",
    "        \n",
    "        print(experiment_name)\n",
    "        sample_errors = {}\n",
    "        sample_errors_count = 0\n",
    "\n",
    "        for sample_name in experiment_samples.keys():\n",
    "            experiment_example = experiment_samples[sample_name]\n",
    "            if is_experiment:\n",
    "                print(sample_name)\n",
    "            if is_experiment:\n",
    "                sample_songs = get_songs_from_sample(experiment_example)\n",
    "            else:\n",
    "                sample_songs = get_songs_from_dataset(experiment_example)\n",
    "\n",
    "            for sample in sample_songs:\n",
    "                try:\n",
    "                    if is_experiment:\n",
    "                        metadata, formatted_sample = format_model_output(sample)\n",
    "                    else:\n",
    "                        metadata, formatted_sample = get_song_metadata(sample)\n",
    "                        \n",
    "                    current_metric = get_metrics(formatted_sample,metadata)\n",
    "\n",
    "                    current_metric['song_formatted'] = formatted_sample\n",
    "                    current_metric['sample_name'] = sample_name\n",
    "                    current_metric['experiment_name'] = experiment_name\n",
    "                    \n",
    "                    metrics_row = pd.DataFrame([current_metric])    \n",
    "                    metrics_df = pd.concat([metrics_df, metrics_row])               \n",
    "                except Exception as e:\n",
    "                    print('Error Found!!!')\n",
    "                    sample_errors_count += 1\n",
    "                    if sample_name in sample_errors:\n",
    "                        sample_errors[sample_name].append(f'caught {type(e)}: e')\n",
    "                    else:\n",
    "                        sample_errors[sample_name] = [f'caught {type(e)}: e']\n",
    "        \n",
    "        experiment_errors[experiment_name] = sample_errors\n",
    "        print('errors_in_sample:',sample_errors_count)\n",
    "        total_errors_count += sample_errors_count\n",
    "        print('-----'*10)\n",
    "    print('total_errors:',total_errors_count)\n",
    "    return experiment_errors,metrics_df"
   ]
  },
  {
   "cell_type": "code",
   "execution_count": 112,
   "metadata": {},
   "outputs": [
    {
     "name": "stdout",
     "output_type": "stream",
     "text": [
      "hd-8-ly-12-embd-240\n",
      "examples_C.txt\n",
      "num. song samples: 10\n",
      "examples_G.txt\n",
      "num. song samples: 10\n",
      "examples_Am.txt\n",
      "num. song samples: 10\n",
      "errors_in_sample: 0\n",
      "--------------------------------------------------\n",
      "hd-8-ly-12-embd-280\n",
      "examples_C.txt\n",
      "num. song samples: 10\n",
      "examples_G.txt\n",
      "num. song samples: 10\n",
      "examples_Am.txt\n",
      "num. song samples: 10\n",
      "errors_in_sample: 0\n",
      "--------------------------------------------------\n",
      "hd-8-ly-12-embd-368\n",
      "examples_C.txt\n",
      "num. song samples: 10\n",
      "examples_G.txt\n",
      "num. song samples: 10\n",
      "examples_Am.txt\n",
      "num. song samples: 10\n",
      "errors_in_sample: 0\n",
      "--------------------------------------------------\n",
      "hd_8_ly_6_bch_84\n",
      "examples_C.txt\n",
      "num. song samples: 10\n",
      "examples_G.txt\n",
      "num. song samples: 10\n",
      "examples_Am.txt\n",
      "num. song samples: 10\n",
      "errors_in_sample: 0\n",
      "--------------------------------------------------\n",
      "hd-8-ly-12-embd-320\n",
      "examples_C.txt\n",
      "num. song samples: 10\n",
      "examples_G.txt\n",
      "num. song samples: 10\n",
      "examples_Am.txt\n",
      "num. song samples: 10\n",
      "errors_in_sample: 0\n",
      "--------------------------------------------------\n",
      "hd-8-ly-16-rn-data\n",
      "examples_C.txt\n",
      "num. song samples: 10\n",
      "examples_G.txt\n",
      "num. song samples: 10\n",
      "examples_Am.txt\n",
      "num. song samples: 10\n",
      "errors_in_sample: 0\n",
      "--------------------------------------------------\n",
      "hd-8-ly-12-bt4-rn-data-ovrf\n",
      "examples_C.txt\n",
      "num. song samples: 10\n",
      "examples_G.txt\n",
      "num. song samples: 10\n",
      "examples_Am.txt\n",
      "num. song samples: 10\n",
      "errors_in_sample: 0\n",
      "--------------------------------------------------\n",
      "hd-12-ly-12\n",
      "examples_C.txt\n",
      "num. song samples: 10\n",
      "examples_G.txt\n",
      "num. song samples: 10\n",
      "examples_Am.txt\n",
      "num. song samples: 10\n",
      "errors_in_sample: 0\n",
      "--------------------------------------------------\n",
      "m_voices\n",
      "errors_in_sample: 0\n",
      "--------------------------------------------------\n",
      "hd-8-ly-12-bt-4\n",
      "examples_C.txt\n",
      "num. song samples: 10\n",
      "examples_G.txt\n",
      "num. song samples: 10\n",
      "examples_Am.txt\n",
      "num. song samples: 10\n",
      "errors_in_sample: 0\n",
      "--------------------------------------------------\n",
      "hd-8-ly-12-bt4-ovrf\n",
      "examples_C.txt\n",
      "num. song samples: 10\n",
      "examples_G.txt\n",
      "num. song samples: 10\n",
      "examples_Am.txt\n",
      "num. song samples: 10\n",
      "errors_in_sample: 0\n",
      "--------------------------------------------------\n",
      "hd-8-ly-16\n",
      "examples_C.txt\n",
      "num. song samples: 10\n",
      "examples_G.txt\n",
      "num. song samples: 10\n",
      "examples_Am.txt\n",
      "num. song samples: 10\n",
      "errors_in_sample: 0\n",
      "--------------------------------------------------\n",
      "t_data\n",
      "errors_in_sample: 0\n",
      "--------------------------------------------------\n",
      "hd-8-ly-12-bt-8\n",
      "examples_C.txt\n",
      "num. song samples: 10\n",
      "examples_G.txt\n",
      "num. song samples: 10\n",
      "examples_Am.txt\n",
      "num. song samples: 10\n",
      "errors_in_sample: 0\n",
      "--------------------------------------------------\n",
      "hd-8-ly-12-bt-16\n",
      "examples_C.txt\n",
      "num. song samples: 10\n",
      "examples_G.txt\n",
      "num. song samples: 10\n"
     ]
    },
    {
     "name": "stderr",
     "output_type": "stream",
     "text": [
      "abcFormat: WARNING: Could not get pitch information from note:  ^, assuming C\n"
     ]
    },
    {
     "name": "stdout",
     "output_type": "stream",
     "text": [
      "examples_Am.txt\n",
      "num. song samples: 10\n",
      "errors_in_sample: 0\n",
      "--------------------------------------------------\n",
      "hd-8-ly-12-bt-1\n",
      "examples_C.txt\n",
      "num. song samples: 10\n",
      "examples_G.txt\n",
      "num. song samples: 10\n",
      "examples_Am.txt\n",
      "num. song samples: 10\n",
      "errors_in_sample: 0\n",
      "--------------------------------------------------\n",
      "hd-8-ly-12-rn-data\n",
      "examples_C.txt\n",
      "num. song samples: 10\n",
      "examples_G.txt\n",
      "num. song samples: 10\n",
      "examples_Am.txt\n",
      "num. song samples: 10\n",
      "errors_in_sample: 0\n",
      "--------------------------------------------------\n",
      "hd-12-ly-12-rn-data\n",
      "examples_C.txt\n",
      "num. song samples: 10\n",
      "examples_G.txt\n",
      "num. song samples: 10\n",
      "examples_Am.txt\n",
      "num. song samples: 10\n",
      "errors_in_sample: 0\n",
      "--------------------------------------------------\n",
      "hd-8-ly-12\n",
      "examples_C.txt\n",
      "num. song samples: 10\n",
      "examples_G.txt\n",
      "num. song samples: 10\n",
      "examples_Am.txt\n",
      "num. song samples: 10\n",
      "Error Found!!!\n",
      "errors_in_sample: 1\n",
      "--------------------------------------------------\n",
      "hd-8-ly-12-bt-64\n",
      "examples_C.txt\n",
      "num. song samples: 10\n",
      "examples_G.txt\n",
      "num. song samples: 10\n",
      "examples_Am.txt\n",
      "num. song samples: 10\n",
      "errors_in_sample: 0\n",
      "--------------------------------------------------\n",
      "hd_8_ly_6_bch_48\n",
      "errors_in_sample: 0\n",
      "--------------------------------------------------\n",
      "hd-8-ly-12-bt-4-rn-data\n",
      "examples_C.txt\n",
      "num. song samples: 10\n",
      "examples_G.txt\n",
      "num. song samples: 10\n",
      "examples_Am.txt\n",
      "num. song samples: 10\n",
      "errors_in_sample: 0\n",
      "--------------------------------------------------\n",
      "hd-8-ly-12-bt-4-ctx-256\n",
      "examples_C.txt\n",
      "num. song samples: 10\n",
      "examples_G.txt\n",
      "num. song samples: 10\n",
      "examples_Am.txt\n",
      "num. song samples: 10\n",
      "errors_in_sample: 0\n",
      "--------------------------------------------------\n",
      "hd-8-ly-12-bt-4-ctx-1024\n",
      "examples_C.txt\n",
      "num. song samples: 10\n",
      "examples_G.txt\n",
      "num. song samples: 10\n",
      "examples_Am.txt\n",
      "num. song samples: 10\n",
      "errors_in_sample: 0\n",
      "--------------------------------------------------\n",
      "single_voice\n",
      "errors_in_sample: 0\n",
      "--------------------------------------------------\n",
      "embd_396\n",
      "examples_C.txt\n",
      "num. song samples: 10\n",
      "examples_G.txt\n",
      "num. song samples: 10\n",
      "examples_Am.txt\n",
      "num. song samples: 10\n",
      "errors_in_sample: 0\n",
      "--------------------------------------------------\n",
      "total_errors: 1\n"
     ]
    },
    {
     "data": {
      "text/html": [
       "<div>\n",
       "<style scoped>\n",
       "    .dataframe tbody tr th:only-of-type {\n",
       "        vertical-align: middle;\n",
       "    }\n",
       "\n",
       "    .dataframe tbody tr th {\n",
       "        vertical-align: top;\n",
       "    }\n",
       "\n",
       "    .dataframe thead th {\n",
       "        text-align: right;\n",
       "    }\n",
       "</style>\n",
       "<table border=\"1\" class=\"dataframe\">\n",
       "  <thead>\n",
       "    <tr style=\"text-align: right;\">\n",
       "      <th></th>\n",
       "      <th>notes_in_key_rate</th>\n",
       "      <th>total_notes</th>\n",
       "      <th>notes_in_key</th>\n",
       "      <th>notes_not_in_key</th>\n",
       "      <th>song_formatted</th>\n",
       "      <th>sample_name</th>\n",
       "      <th>experiment_name</th>\n",
       "    </tr>\n",
       "  </thead>\n",
       "  <tbody>\n",
       "    <tr>\n",
       "      <th>0</th>\n",
       "      <td>1.000000</td>\n",
       "      <td>96</td>\n",
       "      <td>96</td>\n",
       "      <td>0</td>\n",
       "      <td>M:4/4\\nL:1/4\\nK:C\\n%|\"C\"|\"F\"|\"G\"|\"G\"|\"C\"|\"F\"|\"...</td>\n",
       "      <td>examples_C.txt</td>\n",
       "      <td>hd-8-ly-12-embd-240</td>\n",
       "    </tr>\n",
       "    <tr>\n",
       "      <th>0</th>\n",
       "      <td>1.000000</td>\n",
       "      <td>143</td>\n",
       "      <td>143</td>\n",
       "      <td>0</td>\n",
       "      <td>M:4/4\\nL:1/4\\nK:C\\n%|\"C\"|\"F\"|\"G\"|\"G\"|\"C\"|\"F\"|\"...</td>\n",
       "      <td>examples_C.txt</td>\n",
       "      <td>hd-8-ly-12-embd-240</td>\n",
       "    </tr>\n",
       "    <tr>\n",
       "      <th>0</th>\n",
       "      <td>1.000000</td>\n",
       "      <td>82</td>\n",
       "      <td>82</td>\n",
       "      <td>0</td>\n",
       "      <td>M:4/4\\nL:1/4\\nK:C\\n%|\"C\"|\"F\"|\"G\"|\"G\"|\"C\"|\"F\"|\"...</td>\n",
       "      <td>examples_C.txt</td>\n",
       "      <td>hd-8-ly-12-embd-240</td>\n",
       "    </tr>\n",
       "    <tr>\n",
       "      <th>0</th>\n",
       "      <td>0.985507</td>\n",
       "      <td>69</td>\n",
       "      <td>68</td>\n",
       "      <td>1</td>\n",
       "      <td>M:4/4\\nL:1/4\\nK:C\\n%|\"C\"|\"F\"|\"G\"|\"G\"|\"C\"|\"F\"|\"...</td>\n",
       "      <td>examples_C.txt</td>\n",
       "      <td>hd-8-ly-12-embd-240</td>\n",
       "    </tr>\n",
       "    <tr>\n",
       "      <th>0</th>\n",
       "      <td>0.974747</td>\n",
       "      <td>198</td>\n",
       "      <td>193</td>\n",
       "      <td>5</td>\n",
       "      <td>M:4/4\\nL:1/4\\nK:C\\n%|\"C\"|\"F\"|\"G\"|\"G\"|\"C\"|\"F\"|\"...</td>\n",
       "      <td>examples_C.txt</td>\n",
       "      <td>hd-8-ly-12-embd-240</td>\n",
       "    </tr>\n",
       "    <tr>\n",
       "      <th>...</th>\n",
       "      <td>...</td>\n",
       "      <td>...</td>\n",
       "      <td>...</td>\n",
       "      <td>...</td>\n",
       "      <td>...</td>\n",
       "      <td>...</td>\n",
       "      <td>...</td>\n",
       "    </tr>\n",
       "    <tr>\n",
       "      <th>0</th>\n",
       "      <td>0.892857</td>\n",
       "      <td>84</td>\n",
       "      <td>75</td>\n",
       "      <td>9</td>\n",
       "      <td>M:4/4\\nL:1/4\\nK:Am\\n%|\"Am\"|\"Dm\"|\"E\"|\"E\"|\"Am\"|\"...</td>\n",
       "      <td>examples_Am.txt</td>\n",
       "      <td>embd_396</td>\n",
       "    </tr>\n",
       "    <tr>\n",
       "      <th>0</th>\n",
       "      <td>0.916667</td>\n",
       "      <td>96</td>\n",
       "      <td>88</td>\n",
       "      <td>8</td>\n",
       "      <td>M:4/4\\nL:1/4\\nK:Am\\n%|\"Am\"|\"Dm\"|\"E\"|\"E\"|\"Am\"|\"...</td>\n",
       "      <td>examples_Am.txt</td>\n",
       "      <td>embd_396</td>\n",
       "    </tr>\n",
       "    <tr>\n",
       "      <th>0</th>\n",
       "      <td>0.926829</td>\n",
       "      <td>82</td>\n",
       "      <td>76</td>\n",
       "      <td>6</td>\n",
       "      <td>M:4/4\\nL:1/4\\nK:Am\\n%|\"Am\"|\"Dm\"|\"E\"|\"E\"|\"Am\"|\"...</td>\n",
       "      <td>examples_Am.txt</td>\n",
       "      <td>embd_396</td>\n",
       "    </tr>\n",
       "    <tr>\n",
       "      <th>0</th>\n",
       "      <td>0.931034</td>\n",
       "      <td>87</td>\n",
       "      <td>81</td>\n",
       "      <td>6</td>\n",
       "      <td>M:4/4\\nL:1/4\\nK:Am\\n%|\"Am\"|\"Dm\"|\"E\"|\"E\"|\"Am\"|\"...</td>\n",
       "      <td>examples_Am.txt</td>\n",
       "      <td>embd_396</td>\n",
       "    </tr>\n",
       "    <tr>\n",
       "      <th>0</th>\n",
       "      <td>0.863636</td>\n",
       "      <td>198</td>\n",
       "      <td>171</td>\n",
       "      <td>27</td>\n",
       "      <td>M:4/4\\nL:1/4\\nK:Am\\n%|\"Am\"|\"Dm\"|\"E\"|\"E\"|\"Am\"|\"...</td>\n",
       "      <td>examples_Am.txt</td>\n",
       "      <td>embd_396</td>\n",
       "    </tr>\n",
       "  </tbody>\n",
       "</table>\n",
       "<p>659 rows × 7 columns</p>\n",
       "</div>"
      ],
      "text/plain": [
       "    notes_in_key_rate  total_notes  notes_in_key  notes_not_in_key  \\\n",
       "0            1.000000           96            96                 0   \n",
       "0            1.000000          143           143                 0   \n",
       "0            1.000000           82            82                 0   \n",
       "0            0.985507           69            68                 1   \n",
       "0            0.974747          198           193                 5   \n",
       "..                ...          ...           ...               ...   \n",
       "0            0.892857           84            75                 9   \n",
       "0            0.916667           96            88                 8   \n",
       "0            0.926829           82            76                 6   \n",
       "0            0.931034           87            81                 6   \n",
       "0            0.863636          198           171                27   \n",
       "\n",
       "                                       song_formatted      sample_name  \\\n",
       "0   M:4/4\\nL:1/4\\nK:C\\n%|\"C\"|\"F\"|\"G\"|\"G\"|\"C\"|\"F\"|\"...   examples_C.txt   \n",
       "0   M:4/4\\nL:1/4\\nK:C\\n%|\"C\"|\"F\"|\"G\"|\"G\"|\"C\"|\"F\"|\"...   examples_C.txt   \n",
       "0   M:4/4\\nL:1/4\\nK:C\\n%|\"C\"|\"F\"|\"G\"|\"G\"|\"C\"|\"F\"|\"...   examples_C.txt   \n",
       "0   M:4/4\\nL:1/4\\nK:C\\n%|\"C\"|\"F\"|\"G\"|\"G\"|\"C\"|\"F\"|\"...   examples_C.txt   \n",
       "0   M:4/4\\nL:1/4\\nK:C\\n%|\"C\"|\"F\"|\"G\"|\"G\"|\"C\"|\"F\"|\"...   examples_C.txt   \n",
       "..                                                ...              ...   \n",
       "0   M:4/4\\nL:1/4\\nK:Am\\n%|\"Am\"|\"Dm\"|\"E\"|\"E\"|\"Am\"|\"...  examples_Am.txt   \n",
       "0   M:4/4\\nL:1/4\\nK:Am\\n%|\"Am\"|\"Dm\"|\"E\"|\"E\"|\"Am\"|\"...  examples_Am.txt   \n",
       "0   M:4/4\\nL:1/4\\nK:Am\\n%|\"Am\"|\"Dm\"|\"E\"|\"E\"|\"Am\"|\"...  examples_Am.txt   \n",
       "0   M:4/4\\nL:1/4\\nK:Am\\n%|\"Am\"|\"Dm\"|\"E\"|\"E\"|\"Am\"|\"...  examples_Am.txt   \n",
       "0   M:4/4\\nL:1/4\\nK:Am\\n%|\"Am\"|\"Dm\"|\"E\"|\"E\"|\"Am\"|\"...  examples_Am.txt   \n",
       "\n",
       "        experiment_name  \n",
       "0   hd-8-ly-12-embd-240  \n",
       "0   hd-8-ly-12-embd-240  \n",
       "0   hd-8-ly-12-embd-240  \n",
       "0   hd-8-ly-12-embd-240  \n",
       "0   hd-8-ly-12-embd-240  \n",
       "..                  ...  \n",
       "0              embd_396  \n",
       "0              embd_396  \n",
       "0              embd_396  \n",
       "0              embd_396  \n",
       "0              embd_396  \n",
       "\n",
       "[659 rows x 7 columns]"
      ]
     },
     "execution_count": 112,
     "metadata": {},
     "output_type": "execute_result"
    }
   ],
   "source": [
    "experiments_main_path = './notebooks/nanoGPT/older_ckpt/'\n",
    "experiments_paths = get_subfolders_names(experiments_main_path)[1:]    \n",
    "experiments = {path.split('/')[-1]:path for path in experiments_paths}\n",
    "experiments\n",
    "errors_found,experiments_metrics = analyse_abc_songs(experiments)\n",
    "experiments_metrics"
   ]
  },
  {
   "cell_type": "code",
   "execution_count": 78,
   "metadata": {},
   "outputs": [
    {
     "data": {
      "text/plain": [
       "{'hd-8-ly-12-embd-240': {},\n",
       " 'hd-8-ly-12-embd-280': {},\n",
       " 'hd-8-ly-12-embd-368': {},\n",
       " 'hd_8_ly_6_bch_84': {},\n",
       " 'hd-8-ly-12-embd-320': {},\n",
       " 'hd-8-ly-16-rn-data': {},\n",
       " 'hd-12-ly-12': {},\n",
       " 'm_voices': {},\n",
       " 'hd-8-ly-12-bt-4': {},\n",
       " 'hd-8-ly-12-bt4-ovrf': {},\n",
       " 'hd-8-ly-16': {},\n",
       " 't_data': {},\n",
       " 'hd-8-ly-12-bt-8': {},\n",
       " 'hd-8-ly-12-bt-16': {},\n",
       " 'hd-8-ly-12-bt-1': {},\n",
       " 'hd-8-ly-12-rn-data': {},\n",
       " 'hd-12-ly-12-rn-data': {},\n",
       " 'hd-8-ly-12': {'examples_Am.txt': [\"caught <class 'music21.abcFormat.ABCHandlerException'>: e\"]},\n",
       " 'hd-8-ly-12-bt-64': {},\n",
       " 'hd_8_ly_6_bch_48': {},\n",
       " 'hd-8-ly-12-bt-4-rn-data': {},\n",
       " 'hd-8-ly-12-bt-4-ctx-256': {},\n",
       " 'hd-8-ly-12-bt-4-ctx-1024': {},\n",
       " 'single_voice': {},\n",
       " 'embd_396': {}}"
      ]
     },
     "execution_count": 78,
     "metadata": {},
     "output_type": "execute_result"
    }
   ],
   "source": [
    "errors_found"
   ]
  },
  {
   "cell_type": "code",
   "execution_count": 99,
   "metadata": {},
   "outputs": [
    {
     "data": {
      "text/plain": [
       "{'abc_roman_num_char': './notebooks/nanoGPT/data/abc_roman_num_char',\n",
       " 'abc_char': './notebooks/nanoGPT/data/abc_char'}"
      ]
     },
     "execution_count": 99,
     "metadata": {},
     "output_type": "execute_result"
    }
   ],
   "source": [
    "datasets_main_path = './notebooks/nanoGPT/data/'\n",
    "datasets_paths = get_subfolders_names(datasets_main_path)[1:]    \n",
    "original_data_paths = {path.split('/')[-1]:path for path in datasets_paths}\n",
    "original_data_paths"
   ]
  },
  {
   "cell_type": "code",
   "execution_count": 101,
   "metadata": {},
   "outputs": [
    {
     "name": "stdout",
     "output_type": "stream",
     "text": [
      "errors_in_sample: 0\n",
      "--------------------------------------------------\n",
      "errors_in_sample: 0\n",
      "--------------------------------------------------\n",
      "total_errors: 0\n"
     ]
    }
   ],
   "source": [
    "errors_found = analyse_abc_songs(original_data_paths,\n",
    "                                experiments_prefix='input',\n",
    "                                is_experiment=False)"
   ]
  }
 ],
 "metadata": {
  "kernelspec": {
   "display_name": "Python 3 (ipykernel)",
   "language": "python",
   "name": "python3"
  },
  "language_info": {
   "codemirror_mode": {
    "name": "ipython",
    "version": 3
   },
   "file_extension": ".py",
   "mimetype": "text/x-python",
   "name": "python",
   "nbconvert_exporter": "python",
   "pygments_lexer": "ipython3",
   "version": "3.8.10"
  },
  "orig_nbformat": 4
 },
 "nbformat": 4,
 "nbformat_minor": 2
}
