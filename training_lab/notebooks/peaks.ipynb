{
 "cells": [
  {
   "cell_type": "code",
   "execution_count": 97,
   "id": "72587256-549b-4be8-abd7-4148f14a79ed",
   "metadata": {},
   "outputs": [
    {
     "name": "stdout",
     "output_type": "stream",
     "text": [
      "12\n"
     ]
    }
   ],
   "source": [
    "peaks_list = [1,5,3,4,3,4,1,2,3,4,6,2]\n",
    "print(len(peaks_list))"
   ]
  },
  {
   "cell_type": "code",
   "execution_count": 96,
   "id": "ada560de-eadf-4f03-9c48-44dc057de9fd",
   "metadata": {},
   "outputs": [],
   "source": [
    "def get_peaks(heights_list):\n",
    "    num_elements = len(heights_list)\n",
    "    return [x for x in range(num_elements) if ((x>0) and (x<=num_elements-2) and is_peak(heights_list,x))]\n",
    "\n",
    "def is_peak(peak_list,pos):\n",
    "    #print(peak_list,pos)\n",
    "    peak_val = peak_list[pos]\n",
    "    prev_val = peak_list[pos-1] \n",
    "    next_val = peak_list[pos+1]\n",
    "    return prev_val<peak_val and next_val<peak_val"
   ]
  },
  {
   "cell_type": "code",
   "execution_count": 99,
   "id": "623ed670-2b2b-4b49-8d04-aaff603b3602",
   "metadata": {},
   "outputs": [
    {
     "data": {
      "text/plain": [
       "[0, 1, 2, 3, 4, 5, 6, 7, 8, 9, 10, 11]"
      ]
     },
     "execution_count": 99,
     "metadata": {},
     "output_type": "execute_result"
    }
   ],
   "source": [
    "[x for x in range(12)]"
   ]
  },
  {
   "cell_type": "code",
   "execution_count": 98,
   "id": "bedfdca3-ebf2-48d7-acce-99521daa4b88",
   "metadata": {},
   "outputs": [
    {
     "name": "stdout",
     "output_type": "stream",
     "text": [
      "True\n",
      "False\n"
     ]
    }
   ],
   "source": [
    "print(is_peak([1,2,1],1))\n",
    "print(is_peak([1,1,1],1))"
   ]
  },
  {
   "cell_type": "code",
   "execution_count": 101,
   "id": "af3e908b-69a3-4b28-90ff-cf22d11e135e",
   "metadata": {},
   "outputs": [],
   "source": [
    "import math\n",
    "def find_max_flags(mountains):\n",
    "    peaks_pos = get_peaks(mountains)\n",
    "    nb_peaks = len(peaks_pos)\n",
    "    \n",
    "    if nb_peaks == 0:\n",
    "        return 0\n",
    "    if nb_peaks == 1:\n",
    "        return 1\n",
    "    \n",
    "    aproximate_max_flags = math.ceil(math.sqrt(len(mountains)))\n",
    "    min_max_flags = min(nb_peaks,aproximate_max_flags)\n",
    "    print(f'number of peaks: {nb_peaks}, aproximate max possible flags: {aproximate_max_flags} start search from minimum: {min_max_flags}')\n",
    "    max_flags = 1\n",
    "    for current_max_flags in range(min_max_flags,0,-1):\n",
    "        current_nb_flags = 1\n",
    "        last_flag_index = 0\n",
    "        for pos in range(1,nb_peaks):\n",
    "            distance_between_peaks = peaks_pos[pos]-peaks_pos[last_flag_index]\n",
    "            if(distance_between_peaks >= current_max_flags and current_nb_flags<current_max_flags):\n",
    "                last_flag_index = pos\n",
    "                current_nb_flags += 1\n",
    "        if current_nb_flags>max_flags:\n",
    "            max_flags = current_nb_flags\n",
    "        else:\n",
    "            return max_flags\n",
    "        \n",
    "    return list_of_peaks"
   ]
  },
  {
   "cell_type": "code",
   "execution_count": 102,
   "id": "9784a426-3008-4445-93a1-d5e7fb857789",
   "metadata": {},
   "outputs": [
    {
     "name": "stdout",
     "output_type": "stream",
     "text": [
      "number of peaks: 4, aproximate max possible flags: 4 start search from minimum: 4\n"
     ]
    },
    {
     "data": {
      "text/plain": [
       "3"
      ]
     },
     "execution_count": 102,
     "metadata": {},
     "output_type": "execute_result"
    }
   ],
   "source": [
    "peaks_list = [1,5,3,4,3,4,1,2,3,4,6,2]\n",
    "find_max_flags(peaks_list)"
   ]
  },
  {
   "cell_type": "code",
   "execution_count": 81,
   "id": "3f660534-d623-4f54-a5a0-f6b477315c04",
   "metadata": {},
   "outputs": [
    {
     "data": {
      "text/plain": [
       "[8, 7, 6, 5, 4, 3, 2]"
      ]
     },
     "execution_count": 81,
     "metadata": {},
     "output_type": "execute_result"
    }
   ],
   "source": [
    "[k for k in range(8,1,-1)]"
   ]
  }
 ],
 "metadata": {
  "kernelspec": {
   "display_name": "Python 3 (ipykernel)",
   "language": "python",
   "name": "python3"
  },
  "language_info": {
   "codemirror_mode": {
    "name": "ipython",
    "version": 3
   },
   "file_extension": ".py",
   "mimetype": "text/x-python",
   "name": "python",
   "nbconvert_exporter": "python",
   "pygments_lexer": "ipython3",
   "version": "3.8.10"
  }
 },
 "nbformat": 4,
 "nbformat_minor": 5
}
