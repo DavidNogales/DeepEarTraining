{
 "cells": [
  {
   "cell_type": "code",
   "execution_count": 13,
   "metadata": {},
   "outputs": [],
   "source": [
    "import pandas as pd\n",
    "import seaborn as sns\n",
    "import numpy as np\n",
    "import matplotlib.pyplot as plt \n",
    "\n",
    "sns.set_style(\"dark\")"
   ]
  },
  {
   "cell_type": "code",
   "execution_count": 94,
   "metadata": {},
   "outputs": [
    {
     "name": "stdout",
     "output_type": "stream",
     "text": [
      "number of values to be dropped:\n",
      " False    1092\n",
      "True       84\n",
      "dtype: int64\n"
     ]
    },
    {
     "data": {
      "text/plain": [
       "<AxesSubplot: xlabel='chords', ylabel='count'>"
      ]
     },
     "execution_count": 94,
     "metadata": {},
     "output_type": "execute_result"
    },
    {
     "data": {
      "image/png": "[encoded data removed]",
      "text/plain": [
       "<Figure size 640x480 with 1 Axes>"
      ]
     },
     "metadata": {},
     "output_type": "display_data"
    }
   ],
   "source": [
    "import os\n",
    "import re\n",
    "from collections import Counter\n",
    "\n",
    "global control_var\n",
    "control_var = True\n",
    "def get_tuneBooks_file_names(path):\n",
    "    tuneBook_filenames = []\n",
    "    \n",
    "    for tuneBook_name in os.listdir(path):\n",
    "        if tuneBook_name.endswith('.abc'):\n",
    "            tuneBook_filenames.append(tuneBook_name)\n",
    "    \n",
    "    #return [\"jigs.abc\"]\n",
    "    return tuneBook_filenames\n",
    "def split_abc_song(abc_song):\n",
    "    k_index = abc_song.find('K:')\n",
    "\n",
    "    split_index = abc_song.find('\\n', k_index)\n",
    "\n",
    "    header = abc_song[:split_index]\n",
    "    body = abc_song[split_index+1:]\n",
    "    return header, body\n",
    "\n",
    "def tuneBook_to_dataframe(tuneBook):\n",
    "    song_list = contents.split(\"\\n\\n\")\n",
    "    song_list = [song.strip() for song in song_list]\n",
    "    songs_header_body_format = [split_abc_song(song) for song in song_list if song != '']\n",
    "    \"\"\"\n",
    "    for (h,b) in songs_header_body_format:\n",
    "        print(\"header\")\n",
    "        print(h)\n",
    "        print(\"*\"*10)\n",
    "        print(\"body\")\n",
    "        print(b)\n",
    "        print(\"\\n\")\n",
    "        print(\"-\"*50)\n",
    "        print(\"\\n\")\n",
    "    \"\"\"\n",
    "    \n",
    "    return pd.DataFrame(songs_header_body_format, columns=['header', 'body'])\n",
    "\n",
    "def get_attributes_from_song_header(tuneBook_df,tuneBook_name):\n",
    "    attributes_column = tuneBook_df[\"header\"]\n",
    "    attributes_list = list(attributes_column)\n",
    "    \n",
    "    data = []\n",
    "    for string in attributes_list:\n",
    "        song = {}\n",
    "        for line in string.split(\"\\n\"):\n",
    "            if not line.startswith(\"%\"):\n",
    "                if ':' in line:\n",
    "                    key, value = line.split(\":\", maxsplit=1)\n",
    "                    song[key.strip()] = value.strip()\n",
    "        data.append(song)\n",
    "\n",
    "    df = pd.DataFrame(data)\n",
    "    descriptive_names = {\n",
    "                        'X': 'reference_number',\n",
    "                        'T': 'title',\n",
    "                        'S': 'source',\n",
    "                        'M': 'meter',\n",
    "                        'L': 'unit_note_length',\n",
    "                        'R': 'rhythm',\n",
    "                        'P': 'parts',\n",
    "                        'K': 'key',\n",
    "                        'F': 'file_name',\n",
    "                        'N': 'notes'\n",
    "                        }\n",
    "    df.rename(columns=descriptive_names, inplace=True)\n",
    "    df[\"tuneBook\"] = tuneBook_name\n",
    "    df[\"original_header\"] =  tuneBook_df[\"header\"]\n",
    "    df[\"original_body\"] =  tuneBook_df[\"body\"]\n",
    "    \n",
    "    return df\n",
    "\n",
    "def get_chord_progression(song_body):\n",
    "    bars = song_body.split(\"|\")\n",
    "    chord_progression = \"|\"\n",
    "    for bar_content in bars:\n",
    "        match_chords = r'\"[^\"]*\"'\n",
    "        chords = re.findall(match_chords, bar_content)\n",
    "        bar_chords = ''.join(chords)\n",
    "        if bar_chords != \"\":\n",
    "            chord_progression += bar_chords +'|'\n",
    "    return chord_progression\n",
    "\n",
    "def get_chord_occurrences(song_body):\n",
    "    bars = song_body.split(\"|\")\n",
    "    chord_progression = \"|\"\n",
    "    match_chords = r'\"[^\"]*\"'\n",
    "    chords = [re.findall(match_chords, bar_content)  for bar_content in bars if bar_content]\n",
    "    chords = [chord for bar_chords in chords for chord in bar_chords]\n",
    "    chord_occurrences = dict(Counter(chords))\n",
    "    return chord_occurrences\n",
    "\n",
    "def get_chords_data(song_body=\"\"):\n",
    "    #song_body = 'P:A\\nD|\"Gm\"GB2G|\"D7\"^Fd2D|\"Gm\"GB2G|\"D7\"^FA2D|\"Gm\"GB2G|\"D\"^Fg -\"Cm\"gc|\\\\\\n\"Gm/d\"B2 \"D7\"A2|\"Gm\"G3:|\\nP:B\\nd|\"Gm\"dg2d|\"Gm\"gb2d|\"F\"cf2c|\"F\"fa2c|\"Eb\"Be2d/2c/2|\"Gm\"dg -\"Cm\"gc|\\\\\\n\"Gm/d\"B2 \"D7\"A2|\"Gm\"G3:|'\n",
    "    clean_body_song = \"\"\n",
    "    match_pattern = \"\"\n",
    "    for line in song_body.splitlines():\n",
    "        if not line.startswith(\"%\"):\n",
    "            if not \"P:\" in line:\n",
    "                new_line = line.strip(\"\\\\\")\n",
    "                match_pattern = r\"[: ]\"\n",
    "                new_line = re.sub(match_pattern, \"\", new_line)\n",
    "                clean_body_song = clean_body_song+new_line\n",
    "\n",
    "    \n",
    "    chord_progression = get_chord_progression(clean_body_song)\n",
    "    chords_data = get_chord_occurrences(clean_body_song)\n",
    "    chords_data[\"chord_progression\"] = chord_progression\n",
    "    chords_data[\"clean_body\"] = clean_body_song\n",
    "    return chords_data\n",
    "\n",
    "### treat strings line by line to ignore comments and parts!!!!!\n",
    "def get_song_characteristics_from_body(tuneBook_df, header_col_name=\"original_body\"):\n",
    "    songs_bodies=tuneBook_df[header_col_name]\n",
    "    #global control_var\n",
    "    #print(songs_bodies)\n",
    "    #if(control_var):\n",
    "        #control_var = False\n",
    "    #df = tuneBook_df.join(songs_bodies.apply(get_chords_data))\n",
    "    new_data = songs_bodies.apply(get_chords_data)\n",
    "    chords_df = new_data.apply(pd.Series)\n",
    "    chords = chords_df['chord_progression']\n",
    "    chords_df = chords_df.drop('chord_progression', axis=1)\n",
    "    chords_df[\"chord_progression\"] = chords\n",
    "    tuneBook_df = tuneBook_df.join(chords_df)\n",
    "    #print(tuneBook_df.columns)\n",
    "    #print(\"*\"*20)   \n",
    "    # get anacrusis bool to see that the dataset is balanced\n",
    "    #tuneBook[\"num_notes_per_bar\"] # count num -> useless? to measure intensity?\n",
    "    #tuneBook[\"num_bars\"] # count number of || ins song -> to detect possible outliers?\n",
    "    #tuneBook[\"num_notes_in_song\"] # count a,b,c,d...in string, match regex \"a\"   \n",
    "    #tuneBook[\"chord_progression\"] #string \"|\"C\"|\"Dm\"|\" -> to count chords and to have a \"Tree view of common chord progressions\"\n",
    "    #tuneBook[\"multiple_parts\"] #bool -> to treat songs with multiple parts\n",
    "    ##  Count types of notes in each song to see the proportion of notes for a given key\n",
    "    ## Maybe by chord also?\n",
    "    return tuneBook_df\n",
    "def get_songs_metadata(songs_dataframe, tuneBook_name):\n",
    "    #songs_dataframe[\"number_in_tunebook\"] = get_attributes_from_song_header(songs_dataframe)\n",
    "    df = get_attributes_from_song_header(songs_dataframe,tuneBook_name)\n",
    "    df = get_song_characteristics_from_body(df)\n",
    "    return df\n",
    "def prepare_dataset_for_EDA(relative_path=\"\",drop_by_occurrences=False, drop_by_extended_chord=True):\n",
    "    absolute_path = os.getcwd()\n",
    "    #relative_path = \"notebooks/data/NottinghamData/nottingham_database\"\n",
    "    relative_path = \"notebooks/data/NottinghamCleaned/nottingham_match/python/data/nottingham_jukedeck/ABC_cleaned\"\n",
    "    absolute_path = os.path.join(absolute_path, relative_path)\n",
    "    songs_df = pd.DataFrame()\n",
    "    list_tuneBooks = get_tuneBooks_file_names(absolute_path)\n",
    "    for abc_tuneBook_filename in list_tuneBooks:\n",
    "        file_path = os.path.join(absolute_path, abc_tuneBook_filename)\n",
    "        \n",
    "        with open(file_path) as tuneBook:\n",
    "            contents = tuneBook.read()\n",
    "            df = tuneBook_to_dataframe(contents)\n",
    "            df1 = get_songs_metadata(df,abc_tuneBook_filename)\n",
    "            songs_df = pd.concat([songs_df, df1], ignore_index=True)\n",
    "\n",
    "\n",
    "    chords_names = songs_df.columns[songs_df.columns.str.contains('\"[^\"]*\"')]\n",
    "\n",
    "    songs_df[chords_names] = songs_df[chords_names].fillna(0).astype(int)\n",
    "\n",
    "    chords_occurrences = songs_df[chords_names].sum().sort_values(ascending=True)\n",
    "\n",
    "    #for current_chord,sum_chords in chords_occurrences.items():\n",
    "    #    print(current_chord,sum_chords)\n",
    "\n",
    "    chords_occurrences = chords_occurrences.reset_index(drop=True)\n",
    "    chords_occurrences = chords_occurrences.reset_index()\n",
    "    chords_occurrences_before_drop = chords_occurrences.rename({0:\"count\",\"index\":\"chords\"},axis=1)\n",
    "    chords_occurrences = songs_df[chords_names].sum()\n",
    "    chords_names_to_be_dropped = []\n",
    "    if(drop_by_occurrences):\n",
    "        chords_names_least_occurrences = chords_occurrences[chords_occurrences<100].index.to_list()\n",
    "        print(\"number chords least occurrences: \",len(chords_names_least_occurrences))\n",
    "\n",
    "        mask_drop_songs_with_low_chords_sample = songs_df[chords_names_least_occurrences].apply(lambda row: row>0).any(axis=1)\n",
    "        drop_num = mask_drop_songs_with_low_chords_sample.value_counts()\n",
    "        print(\"number of values to be dropped:\\n\",drop_num)\n",
    "        mask_drop_songs = mask_drop_songs_with_low_chords_sample\n",
    "        chords_names_to_be_dropped = chords_names_least_occurrences\n",
    "    #chords_most_occurrences = songs_df[chords_names_least_occurrences].sum().sort_values(ascending=True)\n",
    "    #for current_chord,sum_chords in chords_most_occurrences.items():\n",
    "    #    print(current_chord,sum_chords)\n",
    "\n",
    "    if(drop_by_extended_chord):\n",
    "        #extended_chords_names = songs_df.columns.str.filter(\"/\")\n",
    "        extended_chords_names = songs_df.columns[songs_df.columns.str.contains(\"/\")].to_list()\n",
    "        chords_names_to_be_dropped = extended_chords_names\n",
    "        mask_drop_songs_with_extended_chords = songs_df[extended_chords_names].apply(lambda row: row>0).any(axis=1)\n",
    "        drop_num = mask_drop_songs_with_extended_chords.value_counts()\n",
    "        print(\"number of values to be dropped:\\n\",drop_num)\n",
    "        mask_drop_songs = mask_drop_songs_with_extended_chords\n",
    "\n",
    "    if(drop_by_occurrences or drop_by_extended_chord):\n",
    "        clean_songs_df = songs_df[~mask_drop_songs]\n",
    "        \n",
    "    else:\n",
    "        clean_songs_df = songs_df\n",
    "\n",
    "    clean_songs_df = clean_songs_df.reset_index(drop=True)\n",
    "    clean_songs_df.drop(chords_names_to_be_dropped, axis=1, inplace=True)\n",
    "\n",
    "    mask_no_chord_progression = clean_songs_df[\"chord_progression\"].str.len()>20\n",
    "    clean_songs_df = clean_songs_df[mask_no_chord_progression]\n",
    "    clean_songs_df = clean_songs_df.reset_index(drop=True)\n",
    "    #for song in clean_songs_df[\"chord_progression\"]:\n",
    "    #    print(song)\n",
    "    #    print(\"**\"*10)\n",
    "    return songs_df, clean_songs_df, chords_occurrences_before_drop\n",
    "\n",
    "songs_df, clean_songs_df,chords_occurrences = prepare_dataset_for_EDA()\n",
    "#chords_occurrences[\"count\"] = chords_occurrences[\"count\"].apply(np.log)\n",
    "sns.barplot(data=chords_occurrences,y=\"count\", x='chords',edgecolor='none',color=\"magenta\")\n"
   ]
  },
  {
   "cell_type": "code",
   "execution_count": 95,
   "metadata": {},
   "outputs": [
    {
     "data": {
      "text/plain": [
       "0       False\n",
       "1       False\n",
       "2       False\n",
       "3        True\n",
       "4       False\n",
       "        ...  \n",
       "1171    False\n",
       "1172    False\n",
       "1173     True\n",
       "1174    False\n",
       "1175    False\n",
       "Name: original_body, Length: 1176, dtype: bool"
      ]
     },
     "execution_count": 95,
     "metadata": {},
     "output_type": "execute_result"
    }
   ],
   "source": [
    "songs_df[\"original_body\"].str.contains(\"P:\")"
   ]
  },
  {
   "cell_type": "code",
   "execution_count": 96,
   "metadata": {},
   "outputs": [
    {
     "data": {
      "text/plain": [
       "<AxesSubplot: xlabel='key', ylabel='Count'>"
      ]
     },
     "execution_count": 96,
     "metadata": {},
     "output_type": "execute_result"
    },
    {
     "data": {
      "image/png": "[encoded data removed]",
      "text/plain": [
       "<Figure size 640x480 with 1 Axes>"
      ]
     },
     "metadata": {},
     "output_type": "display_data"
    }
   ],
   "source": [
    "sns.histplot(songs_df[\"key\"].astype(\"category\"))"
   ]
  },
  {
   "cell_type": "code",
   "execution_count": 97,
   "metadata": {},
   "outputs": [
    {
     "data": {
      "image/png": "[encoded data removed]",
      "text/plain": [
       "<Figure size 640x480 with 1 Axes>"
      ]
     },
     "metadata": {},
     "output_type": "display_data"
    }
   ],
   "source": [
    "#fig, ax = plt.subplots()\n",
    "ax = sns.histplot(songs_df[\"key\"].astype(\"category\"),label=\"abc\")\n",
    "ax = sns.histplot(clean_songs_df[\"key\"].astype(\"category\"), ax=ax,label=\"something 2\")\n",
    "ax.legend()\n",
    "plt.show()"
   ]
  },
  {
   "cell_type": "code",
   "execution_count": 98,
   "metadata": {},
   "outputs": [
    {
     "data": {
      "text/plain": [
       "<AxesSubplot: xlabel='key', ylabel='Count'>"
      ]
     },
     "execution_count": 98,
     "metadata": {},
     "output_type": "execute_result"
    },
    {
     "data": {
      "image/png": "[encoded data removed]",
      "text/plain": [
       "<Figure size 640x480 with 1 Axes>"
      ]
     },
     "metadata": {},
     "output_type": "display_data"
    }
   ],
   "source": [
    "sns.histplot(clean_songs_df[\"key\"].astype(\"category\"))"
   ]
  },
  {
   "cell_type": "code",
   "execution_count": 100,
   "metadata": {},
   "outputs": [
    {
     "data": {
      "text/plain": [
       "Index(['\"G\"', '\"D\"', '\"C\"', '\"D7\"', '\"Em\"', '\"A7\"', '\"E7\"', '\"A\"', '\"Bm\"',\n",
       "       '\"Fa7\"', '\"E\"', '\"Am\"', '\"B7\"', '\"F#m\"', '\"Gd\"', '\"F\"', '\"Bb\"', '\"Eb\"',\n",
       "       '\"C7\"', '\"F7\"', '\"Dm\"', '\"Gm\"', '\"G7\"', '\"C#m\"', '\"F#7\"', '\"C#7\"',\n",
       "       '\"F#\"', '\"Ed\"', '\"Ab\"', '\"Cm\"', '\"Fm\"', '\"Cm6\"'],\n",
       "      dtype='object')"
      ]
     },
     "execution_count": 100,
     "metadata": {},
     "output_type": "execute_result"
    }
   ],
   "source": [
    "clean_songs_df.columns[clean_songs_df.columns.str.contains('\"')]"
   ]
  },
  {
   "cell_type": "code",
   "execution_count": 92,
   "metadata": {},
   "outputs": [
    {
     "name": "stdout",
     "output_type": "stream",
     "text": [
      "False    1078\n",
      "Name: chord_progression, dtype: int64\n"
     ]
    }
   ],
   "source": [
    "print(clean_songs_df[\"chord_progression\"].str.contains(\"segno\").value_counts())"
   ]
  }
 ],
 "metadata": {
  "kernelspec": {
   "display_name": "Python 3 (ipykernel)",
   "language": "python",
   "name": "python3"
  },
  "language_info": {
   "codemirror_mode": {
    "name": "ipython",
    "version": 3
   },
   "file_extension": ".py",
   "mimetype": "text/x-python",
   "name": "python",
   "nbconvert_exporter": "python",
   "pygments_lexer": "ipython3",
   "version": "3.8.10"
  }
 },
 "nbformat": 4,
 "nbformat_minor": 4
}
