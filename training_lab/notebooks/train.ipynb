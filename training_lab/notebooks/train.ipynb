{
 "cells": [
  {
   "cell_type": "code",
   "execution_count": 1,
   "metadata": {},
   "outputs": [],
   "source": [
    "import pandas as pd\n",
    "import numpy as np\n",
    "\n",
    "def load_dataframe(relative_path,dataframe_name):\n",
    "    df = pd.read_pickle(f'{relative_path}/{dataframe_name}.pkl')    \n",
    "    return df\n",
    "\n",
    "def read_file(relative_path,file_name):\n",
    "    text= \"\"\n",
    "    with open(f'{relative_path}/{file_name}.abc','r') as f:\n",
    "        text = f.read()\n",
    "    return text"
   ]
  },
  {
   "cell_type": "code",
   "execution_count": 2,
   "metadata": {},
   "outputs": [
    {
     "data": {
      "text/plain": [
       "Index(['unit_note_length', 'tuneBook', 'title', 'reference_number',\n",
       "       'original_header', 'original_body', 'meter', 'key', 'clean_song',\n",
       "       'clean_header', 'clean_body', 'chord_progression', '\"Gm\"', '\"G7\"',\n",
       "       '\"G\"', '\"F7\"', '\"F#m\"', '\"F#7\"', '\"F\"', '\"Em\"', '\"Eb\"', '\"E7\"', '\"E\"',\n",
       "       '\"Dm\"', '\"D7\"', '\"D\"', '\"Cm\"', '\"C7\"', '\"C\"', '\"Bm\"', '\"Bb\"', '\"B7\"',\n",
       "       '\"B\"', '\"Am\"', '\"A7\"', '\"A\"'],\n",
       "      dtype='object')"
      ]
     },
     "execution_count": 2,
     "metadata": {},
     "output_type": "execute_result"
    }
   ],
   "source": [
    "relative_path =\"notebooks/data/augmented_dataset\"\n",
    "filename_name = 'clean_augmented_data'\n",
    "#filename_name = 'clean_original_training_data'\n",
    "#relative_path =\"notebooks/data/original_dataset\"\n",
    "training_data_df = load_dataframe(relative_path,filename_name)\n",
    "training_data_df.columns\n"
   ]
  },
  {
   "cell_type": "code",
   "execution_count": 3,
   "metadata": {},
   "outputs": [
    {
     "data": {
      "text/plain": [
       "0    M:3/2\\nL:1/8\\nK:C#m\\n|\"Gm\"\"D7\"\"Gm\"|\"Cm\"\"D7\"\"Gm...\n",
       "1    M:4/4\\nL:1/4\\nK:Db\\n|\"G\"|\"D7\"|\"G\"|\"Am\"\"D7\"|\"G\"...\n",
       "2    M:6/8\\nL:1/8\\nK:Db\\n|\"G\"|\"G\"|\"G7\"|\"C\"|\"G\"|\"G\"|...\n",
       "3    M:4/4\\nL:1/4\\nK:G#m\\n|\"Dm\"|\"Dm\"|\"Dm\"|\"Dm\"|\"F\"|...\n",
       "4    M:6/8\\nL:1/8\\nK:Ab\\n|\"D\"|\"G\"\"A7\"|\"D\"\"Em\"|\"E7\"\"...\n",
       "Name: clean_header, dtype: object"
      ]
     },
     "execution_count": 3,
     "metadata": {},
     "output_type": "execute_result"
    }
   ],
   "source": [
    "training_data_df.head()[\"clean_header\"]"
   ]
  },
  {
   "cell_type": "code",
   "execution_count": 4,
   "metadata": {},
   "outputs": [
    {
     "data": {
      "text/plain": [
       "0    \"Gm\"g4\"D7\"^f2=ef\"Gm\"g4|\"Cm\"d2cB\"D7\"ABc2\"Gm\"B2G...\n",
       "1    |D|\"G\"GBBA/2B/2|\"D7\"cAAd|\"G\"BGGB|\"Am\"A/2G/2F/2...\n",
       "2    \"G\"DEDG2A|\"G\"BcBA2G|\"G7\"dB2A2G|\"C\"E3-E3|\"G\"DED...\n",
       "3    a|\"Dm\"afga|\"Dm\"fe/2f/2da|\"Dm\"afga|\"Dm\"f2fa|\"F\"...\n",
       "4    A|\"D\"d2efdf|\"G\"g3\"A7\"fga|\"D\"fgf\"Em\"e2d|\"E7\"e3\"...\n",
       "Name: clean_body, dtype: object"
      ]
     },
     "execution_count": 4,
     "metadata": {},
     "output_type": "execute_result"
    }
   ],
   "source": [
    "training_data_df.head()[\"clean_body\"]"
   ]
  },
  {
   "cell_type": "code",
   "execution_count": 5,
   "metadata": {},
   "outputs": [
    {
     "data": {
      "text/html": [
       "<div>\n",
       "<style scoped>\n",
       "    .dataframe tbody tr th:only-of-type {\n",
       "        vertical-align: middle;\n",
       "    }\n",
       "\n",
       "    .dataframe tbody tr th {\n",
       "        vertical-align: top;\n",
       "    }\n",
       "\n",
       "    .dataframe thead th {\n",
       "        text-align: right;\n",
       "    }\n",
       "</style>\n",
       "<table border=\"1\" class=\"dataframe\">\n",
       "  <thead>\n",
       "    <tr style=\"text-align: right;\">\n",
       "      <th></th>\n",
       "      <th>unit_note_length</th>\n",
       "      <th>tuneBook</th>\n",
       "      <th>title</th>\n",
       "      <th>reference_number</th>\n",
       "      <th>original_header</th>\n",
       "      <th>original_body</th>\n",
       "      <th>meter</th>\n",
       "      <th>key</th>\n",
       "      <th>clean_song</th>\n",
       "      <th>clean_header</th>\n",
       "      <th>...</th>\n",
       "      <th>\"Cm\"</th>\n",
       "      <th>\"C7\"</th>\n",
       "      <th>\"C\"</th>\n",
       "      <th>\"Bm\"</th>\n",
       "      <th>\"Bb\"</th>\n",
       "      <th>\"B7\"</th>\n",
       "      <th>\"B\"</th>\n",
       "      <th>\"Am\"</th>\n",
       "      <th>\"A7\"</th>\n",
       "      <th>\"A\"</th>\n",
       "    </tr>\n",
       "  </thead>\n",
       "  <tbody>\n",
       "    <tr>\n",
       "      <th>9720</th>\n",
       "      <td>1/4</td>\n",
       "      <td>dataset_min5.abc</td>\n",
       "      <td>Grandpa's</td>\n",
       "      <td>78</td>\n",
       "      <td>X:78\\nT:Grandpa's\\nM:4/4\\nL:1/4\\nK:A</td>\n",
       "      <td>A/2G/2|\"D\"FA\"A7\"Bc|\"D\"d/2c/2d/2e/2fa|\"Em\"gf\"E7...</td>\n",
       "      <td>4/4</td>\n",
       "      <td>A</td>\n",
       "      <td>M:4/4\\nL:1/4\\nK:A\\n|\"D\"\"A7\"|\"D\"|\"Em\"\"E7\"|\"A7\"|...</td>\n",
       "      <td>M:4/4\\nL:1/4\\nK:A\\n|\"D\"\"A7\"|\"D\"|\"Em\"\"E7\"|\"A7\"|...</td>\n",
       "      <td>...</td>\n",
       "      <td>0</td>\n",
       "      <td>0</td>\n",
       "      <td>0</td>\n",
       "      <td>0</td>\n",
       "      <td>0</td>\n",
       "      <td>0</td>\n",
       "      <td>0</td>\n",
       "      <td>0</td>\n",
       "      <td>7</td>\n",
       "      <td>2</td>\n",
       "    </tr>\n",
       "    <tr>\n",
       "      <th>9721</th>\n",
       "      <td>1/4</td>\n",
       "      <td>dataset_min5.abc</td>\n",
       "      <td>The Girl With The Green Hat On</td>\n",
       "      <td>79</td>\n",
       "      <td>X:79\\nT:The Girl With The Green Hat On\\nM:4/4\\...</td>\n",
       "      <td>(3A/2B/2c/2|\"D\"dA\"A7\"A/2B/2A/2G/2|\"D\"F/2G/2A/2...</td>\n",
       "      <td>4/4</td>\n",
       "      <td>A</td>\n",
       "      <td>M:4/4\\nL:1/4\\nK:A\\n|\"D\"\"A7\"|\"D\"\"A7\"|\"D\"|\"A7\"|\"...</td>\n",
       "      <td>M:4/4\\nL:1/4\\nK:A\\n|\"D\"\"A7\"|\"D\"\"A7\"|\"D\"|\"A7\"|\"...</td>\n",
       "      <td>...</td>\n",
       "      <td>0</td>\n",
       "      <td>0</td>\n",
       "      <td>0</td>\n",
       "      <td>0</td>\n",
       "      <td>0</td>\n",
       "      <td>0</td>\n",
       "      <td>0</td>\n",
       "      <td>0</td>\n",
       "      <td>6</td>\n",
       "      <td>2</td>\n",
       "    </tr>\n",
       "    <tr>\n",
       "      <th>9722</th>\n",
       "      <td>1/4</td>\n",
       "      <td>dataset_min5.abc</td>\n",
       "      <td>Green Meadow</td>\n",
       "      <td>80</td>\n",
       "      <td>X:80\\nT:Green Meadow\\nM:4/4\\nL:1/4\\nK:D</td>\n",
       "      <td>(3D/2E/2F/2|\"G\"GG/2A/2B/2G/2B/2d/2|\"C\"e/2f/2g/...</td>\n",
       "      <td>4/4</td>\n",
       "      <td>D</td>\n",
       "      <td>M:4/4\\nL:1/4\\nK:D\\n|\"G\"|\"C\"\"G\"|\"Am\"|\"Am\"\"D7\"|\"...</td>\n",
       "      <td>M:4/4\\nL:1/4\\nK:D\\n|\"G\"|\"C\"\"G\"|\"Am\"|\"Am\"\"D7\"|\"...</td>\n",
       "      <td>...</td>\n",
       "      <td>0</td>\n",
       "      <td>0</td>\n",
       "      <td>6</td>\n",
       "      <td>0</td>\n",
       "      <td>0</td>\n",
       "      <td>0</td>\n",
       "      <td>0</td>\n",
       "      <td>4</td>\n",
       "      <td>0</td>\n",
       "      <td>0</td>\n",
       "    </tr>\n",
       "    <tr>\n",
       "      <th>9723</th>\n",
       "      <td>1/4</td>\n",
       "      <td>dataset_min5.abc</td>\n",
       "      <td>The Old Grey Cat</td>\n",
       "      <td>82</td>\n",
       "      <td>X:82\\nT:The Old Grey Cat\\nM:4/4\\nL:1/4\\nK:Bm</td>\n",
       "      <td>B|\"Em\"eeEE/2F/2|\"Em\"G/2F/2G/2A/2B/2A/2B/2^c/2|...</td>\n",
       "      <td>4/4</td>\n",
       "      <td>Bm</td>\n",
       "      <td>M:4/4\\nL:1/4\\nK:Bm\\n|\"Em\"|\"Em\"|\"D\"|\"D\"|\"Em\"|\"E...</td>\n",
       "      <td>M:4/4\\nL:1/4\\nK:Bm\\n|\"Em\"|\"Em\"|\"D\"|\"D\"|\"Em\"|\"E...</td>\n",
       "      <td>...</td>\n",
       "      <td>0</td>\n",
       "      <td>0</td>\n",
       "      <td>0</td>\n",
       "      <td>0</td>\n",
       "      <td>0</td>\n",
       "      <td>3</td>\n",
       "      <td>0</td>\n",
       "      <td>1</td>\n",
       "      <td>0</td>\n",
       "      <td>0</td>\n",
       "    </tr>\n",
       "    <tr>\n",
       "      <th>9724</th>\n",
       "      <td>1/4</td>\n",
       "      <td>dataset_min5.abc</td>\n",
       "      <td>Gyre And Gimble</td>\n",
       "      <td>84</td>\n",
       "      <td>X:84\\nT:Gyre And Gimble\\nM:4/4\\nL:1/4\\nK:A</td>\n",
       "      <td>A|\"D\"dAFA|\"Em\"BG\"A7\"EG|\"D\"FAd3/2e/2|\"A7\"f/2g/2...</td>\n",
       "      <td>4/4</td>\n",
       "      <td>A</td>\n",
       "      <td>M:4/4\\nL:1/4\\nK:A\\n|\"D\"|\"Em\"\"A7\"|\"D\"|\"A7\"\"D\"|\"...</td>\n",
       "      <td>M:4/4\\nL:1/4\\nK:A\\n|\"D\"|\"Em\"\"A7\"|\"D\"|\"A7\"\"D\"|\"...</td>\n",
       "      <td>...</td>\n",
       "      <td>0</td>\n",
       "      <td>0</td>\n",
       "      <td>0</td>\n",
       "      <td>0</td>\n",
       "      <td>0</td>\n",
       "      <td>0</td>\n",
       "      <td>0</td>\n",
       "      <td>0</td>\n",
       "      <td>7</td>\n",
       "      <td>1</td>\n",
       "    </tr>\n",
       "  </tbody>\n",
       "</table>\n",
       "<p>5 rows × 36 columns</p>\n",
       "</div>"
      ],
      "text/plain": [
       "     unit_note_length          tuneBook                           title  \\\n",
       "9720              1/4  dataset_min5.abc                       Grandpa's   \n",
       "9721              1/4  dataset_min5.abc  The Girl With The Green Hat On   \n",
       "9722              1/4  dataset_min5.abc                    Green Meadow   \n",
       "9723              1/4  dataset_min5.abc                The Old Grey Cat   \n",
       "9724              1/4  dataset_min5.abc                 Gyre And Gimble   \n",
       "\n",
       "     reference_number                                    original_header  \\\n",
       "9720               78               X:78\\nT:Grandpa's\\nM:4/4\\nL:1/4\\nK:A   \n",
       "9721               79  X:79\\nT:The Girl With The Green Hat On\\nM:4/4\\...   \n",
       "9722               80            X:80\\nT:Green Meadow\\nM:4/4\\nL:1/4\\nK:D   \n",
       "9723               82       X:82\\nT:The Old Grey Cat\\nM:4/4\\nL:1/4\\nK:Bm   \n",
       "9724               84         X:84\\nT:Gyre And Gimble\\nM:4/4\\nL:1/4\\nK:A   \n",
       "\n",
       "                                          original_body meter key  \\\n",
       "9720  A/2G/2|\"D\"FA\"A7\"Bc|\"D\"d/2c/2d/2e/2fa|\"Em\"gf\"E7...   4/4   A   \n",
       "9721  (3A/2B/2c/2|\"D\"dA\"A7\"A/2B/2A/2G/2|\"D\"F/2G/2A/2...   4/4   A   \n",
       "9722  (3D/2E/2F/2|\"G\"GG/2A/2B/2G/2B/2d/2|\"C\"e/2f/2g/...   4/4   D   \n",
       "9723  B|\"Em\"eeEE/2F/2|\"Em\"G/2F/2G/2A/2B/2A/2B/2^c/2|...   4/4  Bm   \n",
       "9724  A|\"D\"dAFA|\"Em\"BG\"A7\"EG|\"D\"FAd3/2e/2|\"A7\"f/2g/2...   4/4   A   \n",
       "\n",
       "                                             clean_song  \\\n",
       "9720  M:4/4\\nL:1/4\\nK:A\\n|\"D\"\"A7\"|\"D\"|\"Em\"\"E7\"|\"A7\"|...   \n",
       "9721  M:4/4\\nL:1/4\\nK:A\\n|\"D\"\"A7\"|\"D\"\"A7\"|\"D\"|\"A7\"|\"...   \n",
       "9722  M:4/4\\nL:1/4\\nK:D\\n|\"G\"|\"C\"\"G\"|\"Am\"|\"Am\"\"D7\"|\"...   \n",
       "9723  M:4/4\\nL:1/4\\nK:Bm\\n|\"Em\"|\"Em\"|\"D\"|\"D\"|\"Em\"|\"E...   \n",
       "9724  M:4/4\\nL:1/4\\nK:A\\n|\"D\"|\"Em\"\"A7\"|\"D\"|\"A7\"\"D\"|\"...   \n",
       "\n",
       "                                           clean_header  ... \"Cm\" \"C7\"  \"C\"  \\\n",
       "9720  M:4/4\\nL:1/4\\nK:A\\n|\"D\"\"A7\"|\"D\"|\"Em\"\"E7\"|\"A7\"|...  ...    0    0    0   \n",
       "9721  M:4/4\\nL:1/4\\nK:A\\n|\"D\"\"A7\"|\"D\"\"A7\"|\"D\"|\"A7\"|\"...  ...    0    0    0   \n",
       "9722  M:4/4\\nL:1/4\\nK:D\\n|\"G\"|\"C\"\"G\"|\"Am\"|\"Am\"\"D7\"|\"...  ...    0    0    6   \n",
       "9723  M:4/4\\nL:1/4\\nK:Bm\\n|\"Em\"|\"Em\"|\"D\"|\"D\"|\"Em\"|\"E...  ...    0    0    0   \n",
       "9724  M:4/4\\nL:1/4\\nK:A\\n|\"D\"|\"Em\"\"A7\"|\"D\"|\"A7\"\"D\"|\"...  ...    0    0    0   \n",
       "\n",
       "      \"Bm\"  \"Bb\"  \"B7\"  \"B\"  \"Am\"  \"A7\"  \"A\"  \n",
       "9720     0     0     0    0     0     7    2  \n",
       "9721     0     0     0    0     0     6    2  \n",
       "9722     0     0     0    0     4     0    0  \n",
       "9723     0     0     3    0     1     0    0  \n",
       "9724     0     0     0    0     0     7    1  \n",
       "\n",
       "[5 rows x 36 columns]"
      ]
     },
     "execution_count": 5,
     "metadata": {},
     "output_type": "execute_result"
    }
   ],
   "source": [
    "training_data_df.tail()"
   ]
  },
  {
   "cell_type": "code",
   "execution_count": 6,
   "metadata": {},
   "outputs": [
    {
     "data": {
      "text/plain": [
       "1155"
      ]
     },
     "execution_count": 6,
     "metadata": {},
     "output_type": "execute_result"
    }
   ],
   "source": [
    "training_data_df[\"clean_body\"].str.len().max()"
   ]
  },
  {
   "cell_type": "code",
   "execution_count": 13,
   "metadata": {},
   "outputs": [
    {
     "name": "stdout",
     "output_type": "stream",
     "text": [
      "vocab:  \n",
      "\"#'()+,-/1234567=ABCDEFG[]^_abcdefgmz|~\n",
      "vocab_size 40\n",
      "silences  612\n"
     ]
    }
   ],
   "source": [
    "bodies = \"\"\n",
    "silences = 0\n",
    "for body in training_data_df[\"clean_body\"]:\n",
    "    if 'z' in body:\n",
    "        silences +=1 \n",
    "    bodies += body+\"\\n\"\n",
    "chars = sorted(list(set(bodies)))\n",
    "vocab_size = len(chars)\n",
    "print('vocab: ',''.join(chars))\n",
    "print('vocab_size',vocab_size)\n",
    "print(\"silences \",silences)"
   ]
  },
  {
   "cell_type": "code",
   "execution_count": 8,
   "metadata": {},
   "outputs": [
    {
     "name": "stdout",
     "output_type": "stream",
     "text": [
      "number of chars: 4156689\n"
     ]
    }
   ],
   "source": [
    "training_data_text = read_file(relative_path,filename_name)\n",
    "\n",
    "print(\"number of chars:\",len(training_data_text))"
   ]
  },
  {
   "cell_type": "code",
   "execution_count": 9,
   "metadata": {},
   "outputs": [
    {
     "name": "stdout",
     "output_type": "stream",
     "text": [
      "\n",
      "\"#'()+,-/123456789:=ABCDEFGKLM[]^_abcdefgmz|~\n",
      "46\n"
     ]
    }
   ],
   "source": [
    "chars = sorted(list(set(training_data_text)))\n",
    "vocab_size = len(chars)\n",
    "print(''.join(chars))\n",
    "print(vocab_size)"
   ]
  }
 ],
 "metadata": {
  "kernelspec": {
   "display_name": "Python 3 (ipykernel)",
   "language": "python",
   "name": "python3"
  },
  "language_info": {
   "codemirror_mode": {
    "name": "ipython",
    "version": 3
   },
   "file_extension": ".py",
   "mimetype": "text/x-python",
   "name": "python",
   "nbconvert_exporter": "python",
   "pygments_lexer": "ipython3",
   "version": "3.8.10"
  },
  "orig_nbformat": 4
 },
 "nbformat": 4,
 "nbformat_minor": 2
}
