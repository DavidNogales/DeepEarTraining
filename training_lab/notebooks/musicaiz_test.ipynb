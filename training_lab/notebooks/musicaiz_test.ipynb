{
 "cells": [
  {
   "cell_type": "code",
   "execution_count": 1,
   "metadata": {},
   "outputs": [
    {
     "name": "stdout",
     "output_type": "stream",
     "text": [
      "Collecting music21\n",
      "  Downloading music21-8.1.0-py3-none-any.whl (22.8 MB)\n",
      "\u001b[2K     \u001b[90m━━━━━━━━━━━━━━━━━━━━━━━━━━━━━━━━━━━━━━━━\u001b[0m \u001b[32m22.8/22.8 MB\u001b[0m \u001b[31m12.7 MB/s\u001b[0m eta \u001b[36m0:00:00\u001b[0m00:01\u001b[0m00:01\u001b[0m\n",
      "\u001b[?25hCollecting jsonpickle\n",
      "  Downloading jsonpickle-3.0.1-py2.py3-none-any.whl (40 kB)\n",
      "\u001b[2K     \u001b[90m━━━━━━━━━━━━━━━━━━━━━━━━━━━━━━━━━━━━━━━━\u001b[0m \u001b[32m40.5/40.5 kB\u001b[0m \u001b[31m7.0 MB/s\u001b[0m eta \u001b[36m0:00:00\u001b[0m\n",
      "\u001b[?25hRequirement already satisfied: matplotlib in /usr/local/lib/python3.8/dist-packages (from music21) (3.6.2)\n",
      "Requirement already satisfied: requests in /usr/local/lib/python3.8/dist-packages (from music21) (2.28.1)\n",
      "Requirement already satisfied: webcolors>=1.5 in /usr/local/lib/python3.8/dist-packages (from music21) (1.12)\n",
      "Collecting more-itertools\n",
      "  Downloading more_itertools-9.0.0-py3-none-any.whl (52 kB)\n",
      "\u001b[2K     \u001b[90m━━━━━━━━━━━━━━━━━━━━━━━━━━━━━━━━━━━━━━━━\u001b[0m \u001b[32m52.8/52.8 kB\u001b[0m \u001b[31m8.8 MB/s\u001b[0m eta \u001b[36m0:00:00\u001b[0m\n",
      "\u001b[?25hRequirement already satisfied: numpy in /usr/local/lib/python3.8/dist-packages (from music21) (1.23.4)\n",
      "Requirement already satisfied: chardet in /usr/local/lib/python3.8/dist-packages (from music21) (5.0.0)\n",
      "Requirement already satisfied: joblib in /usr/local/lib/python3.8/dist-packages (from music21) (1.2.0)\n",
      "Requirement already satisfied: pillow>=6.2.0 in /usr/local/lib/python3.8/dist-packages (from matplotlib->music21) (9.3.0)\n",
      "Requirement already satisfied: kiwisolver>=1.0.1 in /usr/local/lib/python3.8/dist-packages (from matplotlib->music21) (1.4.4)\n",
      "Requirement already satisfied: packaging>=20.0 in /usr/local/lib/python3.8/dist-packages (from matplotlib->music21) (21.3)\n",
      "Requirement already satisfied: pyparsing>=2.2.1 in /usr/local/lib/python3.8/dist-packages (from matplotlib->music21) (3.0.9)\n",
      "Requirement already satisfied: cycler>=0.10 in /usr/local/lib/python3.8/dist-packages (from matplotlib->music21) (0.11.0)\n",
      "Requirement already satisfied: python-dateutil>=2.7 in /usr/local/lib/python3.8/dist-packages (from matplotlib->music21) (2.8.2)\n",
      "Requirement already satisfied: fonttools>=4.22.0 in /usr/local/lib/python3.8/dist-packages (from matplotlib->music21) (4.38.0)\n",
      "Requirement already satisfied: contourpy>=1.0.1 in /usr/local/lib/python3.8/dist-packages (from matplotlib->music21) (1.0.7)\n",
      "Requirement already satisfied: idna<4,>=2.5 in /usr/local/lib/python3.8/dist-packages (from requests->music21) (3.4)\n",
      "Requirement already satisfied: certifi>=2017.4.17 in /usr/local/lib/python3.8/dist-packages (from requests->music21) (2022.9.24)\n",
      "Requirement already satisfied: charset-normalizer<3,>=2 in /usr/local/lib/python3.8/dist-packages (from requests->music21) (2.1.1)\n",
      "Requirement already satisfied: urllib3<1.27,>=1.21.1 in /usr/local/lib/python3.8/dist-packages (from requests->music21) (1.26.12)\n",
      "Requirement already satisfied: six>=1.5 in /usr/local/lib/python3.8/dist-packages (from python-dateutil>=2.7->matplotlib->music21) (1.16.0)\n",
      "Installing collected packages: more-itertools, jsonpickle, music21\n",
      "Successfully installed jsonpickle-3.0.1 more-itertools-9.0.0 music21-8.1.0\n",
      "\u001b[33mWARNING: Running pip as the 'root' user can result in broken permissions and conflicting behaviour with the system package manager. It is recommended to use a virtual environment instead: https://pip.pypa.io/warnings/venv\u001b[0m\u001b[33m\n",
      "\u001b[0m\n",
      "\u001b[1m[\u001b[0m\u001b[34;49mnotice\u001b[0m\u001b[1;39;49m]\u001b[0m\u001b[39;49m A new release of pip available: \u001b[0m\u001b[31;49m22.3\u001b[0m\u001b[39;49m -> \u001b[0m\u001b[32;49m22.3.1\u001b[0m\n",
      "\u001b[1m[\u001b[0m\u001b[34;49mnotice\u001b[0m\u001b[1;39;49m]\u001b[0m\u001b[39;49m To update, run: \u001b[0m\u001b[32;49mpython3 -m pip install --upgrade pip\u001b[0m\n",
      "Collecting muspy\n",
      "  Downloading muspy-0.5.0-py3-none-any.whl (119 kB)\n",
      "\u001b[2K     \u001b[90m━━━━━━━━━━━━━━━━━━━━━━━━━━━━━━━━━━━━━━━\u001b[0m \u001b[32m119.1/119.1 kB\u001b[0m \u001b[31m4.5 MB/s\u001b[0m eta \u001b[36m0:00:00\u001b[0m\n",
      "\u001b[?25hRequirement already satisfied: music21>=6.0 in /usr/local/lib/python3.8/dist-packages (from muspy) (8.1.0)\n",
      "Requirement already satisfied: PyYAML>=3.0 in /usr/local/lib/python3.8/dist-packages (from muspy) (6.0)\n",
      "Collecting bidict>=0.21\n",
      "  Downloading bidict-0.22.1-py3-none-any.whl (35 kB)\n",
      "Collecting mido>=1.0\n",
      "  Downloading mido-1.2.10-py2.py3-none-any.whl (51 kB)\n",
      "\u001b[2K     \u001b[90m━━━━━━━━━━━━━━━━━━━━━━━━━━━━━━━━━━━━━━━━\u001b[0m \u001b[32m51.1/51.1 kB\u001b[0m \u001b[31m7.9 MB/s\u001b[0m eta \u001b[36m0:00:00\u001b[0m\n",
      "\u001b[?25hRequirement already satisfied: matplotlib>=1.5 in /usr/local/lib/python3.8/dist-packages (from muspy) (3.6.2)\n",
      "Collecting pypianoroll>=1.0\n",
      "  Downloading pypianoroll-1.0.4-py3-none-any.whl (26 kB)\n",
      "Collecting miditoolkit>=0.1\n",
      "  Downloading miditoolkit-0.1.16-py3-none-any.whl (20 kB)\n",
      "Collecting pretty-midi>=0.2\n",
      "  Downloading pretty_midi-0.2.9.tar.gz (5.6 MB)\n",
      "\u001b[2K     \u001b[90m━━━━━━━━━━━━━━━━━━━━━━━━━━━━━━━━━━━━━━━━\u001b[0m \u001b[32m5.6/5.6 MB\u001b[0m \u001b[31m7.1 MB/s\u001b[0m eta \u001b[36m0:00:00\u001b[0m00:01\u001b[0m00:01\u001b[0mm\n",
      "\u001b[?25h  Preparing metadata (setup.py) ... \u001b[?25ldone\n",
      "\u001b[?25hRequirement already satisfied: joblib>=0.15 in /usr/local/lib/python3.8/dist-packages (from muspy) (1.2.0)\n",
      "Requirement already satisfied: tqdm>=4.0 in /usr/local/lib/python3.8/dist-packages (from muspy) (4.64.1)\n",
      "Requirement already satisfied: requests>=2.0 in /usr/local/lib/python3.8/dist-packages (from muspy) (2.28.1)\n",
      "Requirement already satisfied: pillow>=6.2.0 in /usr/local/lib/python3.8/dist-packages (from matplotlib>=1.5->muspy) (9.3.0)\n",
      "Requirement already satisfied: pyparsing>=2.2.1 in /usr/local/lib/python3.8/dist-packages (from matplotlib>=1.5->muspy) (3.0.9)\n",
      "Requirement already satisfied: contourpy>=1.0.1 in /usr/local/lib/python3.8/dist-packages (from matplotlib>=1.5->muspy) (1.0.7)\n",
      "Requirement already satisfied: numpy>=1.19 in /usr/local/lib/python3.8/dist-packages (from matplotlib>=1.5->muspy) (1.23.4)\n",
      "Requirement already satisfied: kiwisolver>=1.0.1 in /usr/local/lib/python3.8/dist-packages (from matplotlib>=1.5->muspy) (1.4.4)\n",
      "Requirement already satisfied: packaging>=20.0 in /usr/local/lib/python3.8/dist-packages (from matplotlib>=1.5->muspy) (21.3)\n",
      "Requirement already satisfied: python-dateutil>=2.7 in /usr/local/lib/python3.8/dist-packages (from matplotlib>=1.5->muspy) (2.8.2)\n",
      "Requirement already satisfied: cycler>=0.10 in /usr/local/lib/python3.8/dist-packages (from matplotlib>=1.5->muspy) (0.11.0)\n",
      "Requirement already satisfied: fonttools>=4.22.0 in /usr/local/lib/python3.8/dist-packages (from matplotlib>=1.5->muspy) (4.38.0)\n",
      "Requirement already satisfied: chardet in /usr/local/lib/python3.8/dist-packages (from music21>=6.0->muspy) (5.0.0)\n",
      "Requirement already satisfied: more-itertools in /usr/local/lib/python3.8/dist-packages (from music21>=6.0->muspy) (9.0.0)\n",
      "Requirement already satisfied: jsonpickle in /usr/local/lib/python3.8/dist-packages (from music21>=6.0->muspy) (3.0.1)\n",
      "Requirement already satisfied: webcolors>=1.5 in /usr/local/lib/python3.8/dist-packages (from music21>=6.0->muspy) (1.12)\n",
      "Requirement already satisfied: six in /usr/local/lib/python3.8/dist-packages (from pretty-midi>=0.2->muspy) (1.16.0)\n",
      "Requirement already satisfied: scipy>=1.0.0 in /usr/local/lib/python3.8/dist-packages (from pypianoroll>=1.0->muspy) (1.9.3)\n",
      "Requirement already satisfied: idna<4,>=2.5 in /usr/local/lib/python3.8/dist-packages (from requests>=2.0->muspy) (3.4)\n",
      "Requirement already satisfied: certifi>=2017.4.17 in /usr/local/lib/python3.8/dist-packages (from requests>=2.0->muspy) (2022.9.24)\n",
      "Requirement already satisfied: charset-normalizer<3,>=2 in /usr/local/lib/python3.8/dist-packages (from requests>=2.0->muspy) (2.1.1)\n",
      "Requirement already satisfied: urllib3<1.27,>=1.21.1 in /usr/local/lib/python3.8/dist-packages (from requests>=2.0->muspy) (1.26.12)\n",
      "Building wheels for collected packages: pretty-midi\n",
      "  Building wheel for pretty-midi (setup.py) ... \u001b[?25ldone\n",
      "\u001b[?25h  Created wheel for pretty-midi: filename=pretty_midi-0.2.9-py3-none-any.whl size=5591952 sha256=390527df571bdb5fdaa49e866ce5de11ade88e58c9c6cb14120195b66b9861f9\n",
      "  Stored in directory: /root/.cache/pip/wheels/6c/71/01/71644dd5579568ffd37c75cf351bd697efa4e0346861f829ea\n",
      "Successfully built pretty-midi\n",
      "Installing collected packages: mido, pretty-midi, miditoolkit, bidict, pypianoroll, muspy\n",
      "Successfully installed bidict-0.22.1 miditoolkit-0.1.16 mido-1.2.10 muspy-0.5.0 pretty-midi-0.2.9 pypianoroll-1.0.4\n",
      "\u001b[33mWARNING: Running pip as the 'root' user can result in broken permissions and conflicting behaviour with the system package manager. It is recommended to use a virtual environment instead: https://pip.pypa.io/warnings/venv\u001b[0m\u001b[33m\n",
      "\u001b[0m\n",
      "\u001b[1m[\u001b[0m\u001b[34;49mnotice\u001b[0m\u001b[1;39;49m]\u001b[0m\u001b[39;49m A new release of pip available: \u001b[0m\u001b[31;49m22.3\u001b[0m\u001b[39;49m -> \u001b[0m\u001b[32;49m22.3.1\u001b[0m\n",
      "\u001b[1m[\u001b[0m\u001b[34;49mnotice\u001b[0m\u001b[1;39;49m]\u001b[0m\u001b[39;49m To update, run: \u001b[0m\u001b[32;49mpython3 -m pip install --upgrade pip\u001b[0m\n"
     ]
    }
   ],
   "source": [
    "!pip install music21\n",
    "!pip install muspy"
   ]
  },
  {
   "cell_type": "code",
   "execution_count": 32,
   "metadata": {},
   "outputs": [
    {
     "data": {
      "text/plain": [
       "[(1, None), (3, None), (5, None), (7, None)]"
      ]
     },
     "execution_count": 32,
     "metadata": {},
     "output_type": "execute_result"
    }
   ],
   "source": [
    "from music21 import chord\n",
    "from music21 import stream,key\n",
    "c2 = chord.Chord(['c', 'e', 'g','b'])\n",
    "st1 = stream.Stream()\n",
    "st1.append(key.Key('C'))\n",
    "st1.append(c2)\n",
    "c2.scaleDegrees"
   ]
  },
  {
   "cell_type": "code",
   "execution_count": 3,
   "metadata": {},
   "outputs": [
    {
     "name": "stdout",
     "output_type": "stream",
     "text": [
      "Downloading source : https://ifdo.ca/~seymour/runabc/esac/esac.zip ...\n"
     ]
    },
    {
     "name": "stderr",
     "output_type": "stream",
     "text": [
      "178061312it [00:00, 251991053.68it/s]                        \n"
     ]
    },
    {
     "name": "stdout",
     "output_type": "stream",
     "text": [
      "Successfully downloaded source : /tf-env/notebooks/data/EssenFolkData/esac.zip .\n",
      "Extracting archive : /tf-env/notebooks/data/EssenFolkData/esac.zip ...\n",
      "Successfully extracted archive : /tf-env/notebooks/data/EssenFolkData .\n",
      "Converting and saving the dataset...\n"
     ]
    },
    {
     "name": "stderr",
     "output_type": "stream",
     "text": [
      "100%|██████████| 10457/10457 [07:35<00:00, 22.93it/s] "
     ]
    },
    {
     "name": "stdout",
     "output_type": "stream",
     "text": [
      "Successfully saved 9034 out of 10457 files.\n"
     ]
    },
    {
     "name": "stderr",
     "output_type": "stream",
     "text": [
      "\n"
     ]
    },
    {
     "data": {
      "text/plain": [
       "EssenFolkSongDatabase(root=/tf-env/notebooks/data/EssenFolkData)"
      ]
     },
     "execution_count": 3,
     "metadata": {},
     "output_type": "execute_result"
    }
   ],
   "source": [
    "import muspy\n",
    "folk_db = muspy.EssenFolkSongDatabase(root=\"notebooks/data/EssenFolkData/\",download_and_extract=True)\n",
    "folk_db.convert()"
   ]
  },
  {
   "cell_type": "code",
   "execution_count": 28,
   "metadata": {},
   "outputs": [
    {
     "name": "stdout",
     "output_type": "stream",
     "text": [
      "Skip downloading as the `.muspy.success` file is found.\n",
      "Skip extracting as the `.muspy.success` file is found.\n",
      "Converting and saving the dataset...\n"
     ]
    },
    {
     "name": "stderr",
     "output_type": "stream",
     "text": [
      "[Parallel(n_jobs=-1)]: Using backend ThreadingBackend with 8 concurrent workers.\n",
      "[Parallel(n_jobs=-1)]: Done   2 tasks      | elapsed:    2.1s\n",
      "[Parallel(n_jobs=-1)]: Done  56 tasks      | elapsed:   20.8s\n",
      "[Parallel(n_jobs=-1)]: Done 146 tasks      | elapsed:  1.1min\n",
      "[Parallel(n_jobs=-1)]: Done 272 tasks      | elapsed:  2.1min\n",
      "[Parallel(n_jobs=-1)]: Done 434 tasks      | elapsed:  3.3min\n",
      "[Parallel(n_jobs=-1)]: Done 632 tasks      | elapsed:  4.5min\n",
      "[Parallel(n_jobs=-1)]: Done 866 tasks      | elapsed:  5.9min\n"
     ]
    },
    {
     "name": "stdout",
     "output_type": "stream",
     "text": [
      "Successfully saved 1033 out of 1036 files.\n"
     ]
    },
    {
     "name": "stderr",
     "output_type": "stream",
     "text": [
      "[Parallel(n_jobs=-1)]: Done 1036 out of 1036 | elapsed:  8.3min finished\n"
     ]
    },
    {
     "data": {
      "text/plain": [
       "NottinghamDatabase(root=/tf-env/notebooks/data/NottinghamData)"
      ]
     },
     "execution_count": 28,
     "metadata": {},
     "output_type": "execute_result"
    }
   ],
   "source": [
    "nottingham_db = muspy.NottinghamDatabase(root=\"notebooks/data/NottinghamData/\",download_and_extract=True,n_jobs=-1)\n",
    "nottingham_db.convert(n_jobs=-1)\n"
   ]
  },
  {
   "cell_type": "code",
   "execution_count": 35,
   "metadata": {},
   "outputs": [
    {
     "name": "stdout",
     "output_type": "stream",
     "text": [
      "maximun tracks: 4, songs with chords: 1022, total songs 1033\n"
     ]
    }
   ],
   "source": [
    "show = True\n",
    "tracks_max = 0\n",
    "songs_with_chords=0\n",
    "total_songs = 0\n",
    "for folk_music in nottingham_db:\n",
    "    total_songs += 1\n",
    "    if show:\n",
    "        show = True\n",
    "        #print(\"here is a folk song!\")\n",
    "        #folk_music.show_pianoroll()\n",
    "        list_of_tracks = folk_music.tracks\n",
    "        tracks_max = max(tracks_max,len(list_of_tracks))\n",
    "        for single_track in list_of_tracks:\n",
    "            chord_list = single_track.chords\n",
    "            has_chords = len(chord_list)>0\n",
    "            if(has_chords):\n",
    "                songs_with_chords = songs_with_chords+1\n",
    "                #print(chord_list)\n",
    "\n",
    "print(f'maximum tracks: {tracks_max}, songs with chords: {songs_with_chords}, total songs {total_songs}')    "
   ]
  }
 ],
 "metadata": {
  "kernelspec": {
   "display_name": "Python 3 (ipykernel)",
   "language": "python",
   "name": "python3"
  },
  "language_info": {
   "codemirror_mode": {
    "name": "ipython",
    "version": 3
   },
   "file_extension": ".py",
   "mimetype": "text/x-python",
   "name": "python",
   "nbconvert_exporter": "python",
   "pygments_lexer": "ipython3",
   "version": "3.8.10"
  },
  "orig_nbformat": 4,
  "vscode": {
   "interpreter": {
    "hash": "916dbcbb3f70747c44a77c7bcd40155683ae19c65e1c03b4aa3499c5328201f1"
   }
  }
 },
 "nbformat": 4,
 "nbformat_minor": 2
}
